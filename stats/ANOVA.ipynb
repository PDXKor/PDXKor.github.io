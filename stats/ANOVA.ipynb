{
 "cells": [
  {
   "cell_type": "markdown",
   "id": "c645227a",
   "metadata": {},
   "source": [
    "# ANOVA\n",
    "\n",
    "One-way ANOVA means \"Analysis of Variance\". It is an omnibus test, and parametric. \n",
    "\n",
    "* **Omnibus** tests are a kind of stastical test, they test whether the explained variance in a set of data is significantly greater than the unexplained variance. Forms of ominbus testing includes the **F-Test** and the **Chi-squared test**.\n",
    "\n",
    "\n",
    "* **Parametric** models are models based on assumptions of the population such as mean, which is defined as a parameter. \n",
    "\n",
    "An ANOVA test is said to be a one-way test if it is testing a single variable, an ANOVA test can be two-way or a two-factor test if it tests two variables. This is usually refered to as a ANCOVA where the \"C\" stands for covariate. With more than two factors, the test is generally referred to as MANOVA or Multiple Analysis of Variance. \n",
    "\n",
    "### Parametric Test Assumptions of ANOVA\n",
    "\n",
    "* Population distributions are normal\n",
    "* Samples have equal variances\n",
    "* Independence\n",
    "\n",
    "### F-statistic\n",
    "\n",
    "The test statistic for ANOVA is the F-statistic and compares the mean square between samples to the mean square within samples. "
   ]
  },
  {
   "cell_type": "markdown",
   "id": "63e06d33",
   "metadata": {},
   "source": [
    "$$\n",
    "    F = \\frac{MS_B}{MS_W}\n",
    "$$"
   ]
  },
  {
   "cell_type": "markdown",
   "id": "949fffe6",
   "metadata": {},
   "source": [
    "Where, \n",
    "\n",
    "$$\n",
    " MS_B = \\frac{\\text{Sum of square between sample} (SS_b)}{k-1} \\\\\n",
    " MS_W = \\frac{\\text{Sum of square between sample} (SS_w)}{n_T-k}\n",
    "\\\\\\\\\n",
    "$$\n",
    "\n",
    "\n",
    "* k is number of groups\n",
    "* $n_T$ is the total number of observations\n",
    "\n",
    "Similar to the t-test and the t-statistic, you reject the null hypothesis if the f-statistic is greater than a defined threshold value which is based on degrees of freedom and alpha. \n",
    "\n",
    "Let's take a popular data set for machine learning called iris and run analysis of variance or ANOVA. "
   ]
  },
  {
   "cell_type": "code",
   "execution_count": 46,
   "id": "51dc27c6",
   "metadata": {},
   "outputs": [
    {
     "data": {
      "text/html": [
       "<div>\n",
       "<style scoped>\n",
       "    .dataframe tbody tr th:only-of-type {\n",
       "        vertical-align: middle;\n",
       "    }\n",
       "\n",
       "    .dataframe tbody tr th {\n",
       "        vertical-align: top;\n",
       "    }\n",
       "\n",
       "    .dataframe thead th {\n",
       "        text-align: right;\n",
       "    }\n",
       "</style>\n",
       "<table border=\"1\" class=\"dataframe\">\n",
       "  <thead>\n",
       "    <tr style=\"text-align: right;\">\n",
       "      <th></th>\n",
       "      <th>sepal length (cm)</th>\n",
       "      <th>sepal width (cm)</th>\n",
       "      <th>petal length (cm)</th>\n",
       "      <th>petal width (cm)</th>\n",
       "      <th>target</th>\n",
       "      <th>target_name</th>\n",
       "    </tr>\n",
       "  </thead>\n",
       "  <tbody>\n",
       "    <tr>\n",
       "      <th>0</th>\n",
       "      <td>5.1</td>\n",
       "      <td>3.5</td>\n",
       "      <td>1.4</td>\n",
       "      <td>0.2</td>\n",
       "      <td>0</td>\n",
       "      <td>setosa</td>\n",
       "    </tr>\n",
       "    <tr>\n",
       "      <th>1</th>\n",
       "      <td>4.9</td>\n",
       "      <td>3.0</td>\n",
       "      <td>1.4</td>\n",
       "      <td>0.2</td>\n",
       "      <td>0</td>\n",
       "      <td>setosa</td>\n",
       "    </tr>\n",
       "    <tr>\n",
       "      <th>2</th>\n",
       "      <td>4.7</td>\n",
       "      <td>3.2</td>\n",
       "      <td>1.3</td>\n",
       "      <td>0.2</td>\n",
       "      <td>0</td>\n",
       "      <td>setosa</td>\n",
       "    </tr>\n",
       "    <tr>\n",
       "      <th>3</th>\n",
       "      <td>4.6</td>\n",
       "      <td>3.1</td>\n",
       "      <td>1.5</td>\n",
       "      <td>0.2</td>\n",
       "      <td>0</td>\n",
       "      <td>setosa</td>\n",
       "    </tr>\n",
       "    <tr>\n",
       "      <th>4</th>\n",
       "      <td>5.0</td>\n",
       "      <td>3.6</td>\n",
       "      <td>1.4</td>\n",
       "      <td>0.2</td>\n",
       "      <td>0</td>\n",
       "      <td>setosa</td>\n",
       "    </tr>\n",
       "  </tbody>\n",
       "</table>\n",
       "</div>"
      ],
      "text/plain": [
       "   sepal length (cm)  sepal width (cm)  petal length (cm)  petal width (cm)  \\\n",
       "0                5.1               3.5                1.4               0.2   \n",
       "1                4.9               3.0                1.4               0.2   \n",
       "2                4.7               3.2                1.3               0.2   \n",
       "3                4.6               3.1                1.5               0.2   \n",
       "4                5.0               3.6                1.4               0.2   \n",
       "\n",
       "   target target_name  \n",
       "0       0      setosa  \n",
       "1       0      setosa  \n",
       "2       0      setosa  \n",
       "3       0      setosa  \n",
       "4       0      setosa  "
      ]
     },
     "execution_count": 46,
     "metadata": {},
     "output_type": "execute_result"
    }
   ],
   "source": [
    "from sklearn.datasets import load_iris\n",
    "import pandas as pd\n",
    "import seaborn as sns\n",
    "import scipy\n",
    "from scipy.stats import f_oneway\n",
    " \n",
    "\n",
    "data = load_iris()\n",
    "df = pd.DataFrame(data=data.data, columns=data.feature_names)\n",
    "\n",
    "df['target'] = data.target\n",
    "df['target_name'] = 'none'\n",
    "\n",
    "for i in range(0,len(data.target_names)):\n",
    "    df.loc[(df['target']==i),'target_name'] = data.target_names[i]\n",
    "   \n",
    "\n",
    "df.head()"
   ]
  },
  {
   "cell_type": "markdown",
   "id": "b077ec54",
   "metadata": {},
   "source": [
    "First lets plot the distribution of the different classes of flower for each feature, and see if there is one that looks like it could be closely related. It looks like sepal width may be similar, so let's run ANOVA on that. "
   ]
  },
  {
   "cell_type": "code",
   "execution_count": 47,
   "id": "47abb749",
   "metadata": {},
   "outputs": [
    {
     "data": {
      "text/plain": [
       "<seaborn.axisgrid.FacetGrid at 0x12e9c526190>"
      ]
     },
     "execution_count": 47,
     "metadata": {},
     "output_type": "execute_result"
    },
    {
     "data": {
      "image/png": "[encoded data removed]",
      "text/plain": [
       "<Figure size 432x144 with 3 Axes>"
      ]
     },
     "metadata": {
      "needs_background": "light"
     },
     "output_type": "display_data"
    },
    {
     "data": {
      "image/png": "[encoded data removed]",
      "text/plain": [
       "<Figure size 432x144 with 3 Axes>"
      ]
     },
     "metadata": {
      "needs_background": "light"
     },
     "output_type": "display_data"
    },
    {
     "data": {
      "image/png": "[encoded data removed]",
      "text/plain": [
       "<Figure size 432x144 with 3 Axes>"
      ]
     },
     "metadata": {
      "needs_background": "light"
     },
     "output_type": "display_data"
    },
    {
     "data": {
      "image/png": "[encoded data removed]",
      "text/plain": [
       "<Figure size 432x144 with 3 Axes>"
      ]
     },
     "metadata": {
      "needs_background": "light"
     },
     "output_type": "display_data"
    }
   ],
   "source": [
    "sns.displot(\n",
    "    df, x=\"sepal length (cm)\", col=\"target_name\", \n",
    "    binwidth=.2, height=2,\n",
    ")\n",
    "\n",
    "sns.displot(\n",
    "    df, x=\"sepal width (cm)\", col=\"target_name\", \n",
    "    binwidth=.2, height=2, \n",
    ")\n",
    "\n",
    "sns.displot(\n",
    "    df, x=\"petal length (cm)\", col=\"target_name\", \n",
    "    binwidth=.2, height=2, \n",
    ")\n",
    "\n",
    "sns.displot(\n",
    "    df, x=\"petal width (cm)\", col=\"target_name\", \n",
    "    binwidth=.2, height=2, \n",
    ")\n"
   ]
  },
  {
   "cell_type": "code",
   "execution_count": 48,
   "id": "a72ce23e",
   "metadata": {},
   "outputs": [
    {
     "data": {
      "text/plain": [
       "F_onewayResult(statistic=49.160040089612075, pvalue=4.492017133309115e-17)"
      ]
     },
     "execution_count": 48,
     "metadata": {},
     "output_type": "execute_result"
    }
   ],
   "source": [
    "# use the scipy function f_oneway to run a single factor anova using sepal width as the factor\n",
    "f_oneway(df[df['target_name']=='setosa']['sepal width (cm)'].values,\n",
    "         df[df['target_name']=='versicolor']['sepal width (cm)'].values,\n",
    "         df[df['target_name']=='virginica']['sepal width (cm)'].values)"
   ]
  },
  {
   "cell_type": "markdown",
   "id": "d1b28a77",
   "metadata": {},
   "source": [
    "Similar to a t-test you get a p-value, and if that p-value is small, like this one which is very small we can say that there is a difference between the two data sets in terms of means, and that the liklihood that this difference occured by chance is very low. We also get a statstic, that we use to compare against a critical value based on degrees of freedom. To see what the critical value is we can also use scipy such as shown below:"
   ]
  },
  {
   "cell_type": "code",
   "execution_count": 49,
   "id": "4fc70ad7",
   "metadata": {},
   "outputs": [
    {
     "name": "stdout",
     "output_type": "stream",
     "text": [
      "(50,)\n",
      "(50,)\n",
      "(50,)\n"
     ]
    },
    {
     "data": {
      "text/plain": [
       "1.6053180393747197"
      ]
     },
     "execution_count": 49,
     "metadata": {},
     "output_type": "execute_result"
    }
   ],
   "source": [
    "# double check shape to make sure we have the same number of observations in each sample to calculate degrees of freedom\n",
    "print(df[df['target_name']=='setosa']['sepal width (cm)'].shape)\n",
    "print(df[df['target_name']=='versicolor']['sepal width (cm)'].shape)\n",
    "print(  df[df['target_name']=='virginica']['sepal width (cm)'].shape)\n",
    "\n",
    "# alpha\n",
    "alpha = .05\n",
    "\n",
    "# degrees of freedom\n",
    "dfn = df[df['target_name']=='versicolor']['sepal width (cm)'].shape[0]-2\n",
    "\n",
    "# denominator of degrees of freedom\n",
    "dfd = df[df['target_name']=='versicolor']['sepal width (cm)'].shape[0]\n",
    "\n",
    "scipy.stats.f.ppf(q=1-alpha, dfn=dfn, dfd=dfd)"
   ]
  },
  {
   "cell_type": "markdown",
   "id": "adad08d8",
   "metadata": {},
   "source": [
    "This means that if our f-statistic is greater than 1.605 we can assume that the results are statistically signficant, that compared with the low p-value we can be sure that these two classes have different distributions of sepal width."
   ]
  },
  {
   "cell_type": "code",
   "execution_count": null,
   "id": "27196f2b",
   "metadata": {},
   "outputs": [],
   "source": []
  }
 ],
 "metadata": {
  "kernelspec": {
   "display_name": "Python 3 (ipykernel)",
   "language": "python",
   "name": "python3"
  },
  "language_info": {
   "codemirror_mode": {
    "name": "ipython",
    "version": 3
   },
   "file_extension": ".py",
   "mimetype": "text/x-python",
   "name": "python",
   "nbconvert_exporter": "python",
   "pygments_lexer": "ipython3",
   "version": "3.9.7"
  }
 },
 "nbformat": 4,
 "nbformat_minor": 5
}
