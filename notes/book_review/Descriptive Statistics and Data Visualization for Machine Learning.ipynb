{
 "cells": [
  {
   "cell_type": "markdown",
   "id": "793b1fe8",
   "metadata": {},
   "source": [
    "### Review\n",
    "\n",
    "Central Tendancy and symmetry \n",
    "Distribution Type - normal, chi squared, exponential, ect\n",
    "Probability Distribution\n",
    "Variable type - categorical vs continious\n",
    "Basic models - regression , non linear regression\n",
    "Advanced, trees-gradient boosted, lstm, cnn, \n",
    "\n",
    "Variance\n",
    "Standard Deviation\n",
    "\n",
    "IQR\n",
    "Box Plot\n",
    "Look for unbalanced data sets\n",
    "\n",
    "Accuracy\n",
    "Recall\n",
    "\n",
    "Confusion Matrix\n",
    " \n",
    "TP \n",
    "FP\n",
    "TN\n",
    "FN\n",
    "\n",
    "Kurtosis - the sharpness of a peak or how drawn out the tail is\n",
    "\n",
    "High standard deviation or sigma the wider the curve is and the more shallow the slope, moving the curve to the left or the right is a move in the mean. "
   ]
  },
  {
   "cell_type": "markdown",
   "id": "43a8c0b7",
   "metadata": {},
   "source": [
    "### Descriptive Statistics for Continious Features\n",
    "\n",
    "To understand characteristics of a continious feature you must know:\n",
    "\n",
    "* **Central Tendency** - The central tendancy of a sample referes to the value that is typical of the sample and therefore can be used to summarize it. Measures of central tendency are an approximation of this notational value. The common metric is the sample mean or just mean. The mean is affected by outliers, where the median typically is not because it just is the middle number of the ordered numbers in a sample. The mode is the most commonly occuring number. \n",
    "\n",
    "* **Variation** - While central tendancy tells us how our data is centered variation tells us how dispersed the data typically is. One common measurement is variance, which measures the average difference between each observation and the sample mean. Standard deviation of a sample is calculated by taking the square root of the variance of the sample. \n",
    "\n",
    "* **Inter-quartile-range (IQR)** - The inter-quartile-range is calculated as the difference between the 25th and the 75th percentile, also referred to as lower quartile and uper quartile. \n",
    "\n",
    "To understand characteristics of a categorical feature you must know:\n",
    "\n",
    "* **Frequency** - understanding the fequency of specific values to understand how your data is balance for training. Building a frequency table is important for this.\n",
    "\n",
    "\n"
   ]
  },
  {
   "cell_type": "markdown",
   "id": "8d3e0c01",
   "metadata": {},
   "source": [
    "### Population and Samples\n",
    "\n",
    "If a sample is not representative of a population we say it is biased, and if you are giving your model training data that is biased, you will likely get a prediction which is also biased. An easy way of dealing with this is to use a simple random sample of the population. \n",
    "\n",
    "* **Stastical Inference** - Is when we use the sample mean and sample variance as a point estimator for the population, but the sample data has to be signifcantly large. "
   ]
  },
  {
   "cell_type": "markdown",
   "id": "7e74d431",
   "metadata": {},
   "source": [
    "## Probability  \n",
    "\n",
    "* **Domain** - A domain of interest is represented by a set of **random variables**. For example, if we want to model the behavior of a die using probability, we would begin by creating a random variable, let us call it X and the domain is set to possible "
   ]
  },
  {
   "cell_type": "code",
   "execution_count": null,
   "id": "4ec8dd5e",
   "metadata": {},
   "outputs": [],
   "source": []
  }
 ],
 "metadata": {
  "kernelspec": {
   "display_name": "Python 3 (ipykernel)",
   "language": "python",
   "name": "python3"
  },
  "language_info": {
   "codemirror_mode": {
    "name": "ipython",
    "version": 3
   },
   "file_extension": ".py",
   "mimetype": "text/x-python",
   "name": "python",
   "nbconvert_exporter": "python",
   "pygments_lexer": "ipython3",
   "version": "3.9.7"
  }
 },
 "nbformat": 4,
 "nbformat_minor": 5
}
