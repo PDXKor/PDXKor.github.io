{
 "cells": [
  {
   "cell_type": "markdown",
   "id": "892f8425-65d1-4675-8545-cf8e543b5f87",
   "metadata": {},
   "source": [
    "# Langchain Basics\n",
    "\n",
    "Langchain allows the creation of various LLM objects that can be initialized like the ChatOpenAI object below."
   ]
  },
  {
   "cell_type": "code",
   "execution_count": 7,
   "id": "ea3086ac-fbb2-444e-8494-c21e7518a441",
   "metadata": {},
   "outputs": [],
   "source": [
    "from langchain_openai import ChatOpenAI\n",
    "\n",
    "with open('api_key.txt','r') as file:\n",
    "    api_key = file.read()\n",
    "\n",
    "llm = ChatOpenAI(model=\"gpt-3.5-turbo-1106\", \n",
    "                  temperature=0.2, \n",
    "                  api_key=api_key)"
   ]
  },
  {
   "cell_type": "markdown",
   "id": "c0a1c84b-35ed-4910-a87e-1a55f0c9970c",
   "metadata": {},
   "source": [
    "One the llm object is initalized, you can call the invoke method and pass a message. "
   ]
  },
  {
   "cell_type": "code",
   "execution_count": 13,
   "id": "410fbe94-fcd5-4fd3-949b-45f4c2198605",
   "metadata": {
    "tags": []
   },
   "outputs": [
    {
     "data": {
      "text/plain": [
       "AIMessage(content=\"Dark matter is a hypothetical form of matter that is thought to make up about 27% of the universe's total mass and energy. It does not emit, absorb, or reflect light, making it invisible and undetectable by current observational methods. Its existence is inferred from its gravitational effects on visible matter, such as stars and galaxies. The exact nature of dark matter is still unknown, and it is a subject of ongoing research and study in the field of astrophysics and cosmology.\", response_metadata={'token_usage': {'completion_tokens': 99, 'prompt_tokens': 12, 'total_tokens': 111}, 'model_name': 'gpt-3.5-turbo-1106', 'system_fingerprint': None, 'finish_reason': 'stop', 'logprobs': None}, id='run-f4ac483d-8ff6-4269-990b-e24a2e956f50-0')"
      ]
     },
     "execution_count": 13,
     "metadata": {},
     "output_type": "execute_result"
    }
   ],
   "source": [
    "llm.invoke(\"What is dark matter?\")"
   ]
  },
  {
   "cell_type": "markdown",
   "id": "d3577c10-a2b3-4ab8-bec3-d0dcc90323d2",
   "metadata": {
    "tags": []
   },
   "source": [
    "We can also prompt the llm by explaining the persona that should be used to answer the question, for instance look at the different message provided below."
   ]
  },
  {
   "cell_type": "code",
   "execution_count": 15,
   "id": "70dcd278-4034-440d-b3d7-12dd0b051813",
   "metadata": {
    "tags": []
   },
   "outputs": [],
   "source": [
    "from langchain_core.prompts import ChatPromptTemplate\n",
    "prompt = ChatPromptTemplate.from_messages([\n",
    "    (\"system\", \"You are a world class physics research.\"),\n",
    "    (\"user\", \"{input}\")\n",
    "])"
   ]
  },
  {
   "cell_type": "code",
   "execution_count": 16,
   "id": "f90e535f-d661-4d2c-9bb3-8795aca7b2bb",
   "metadata": {
    "tags": []
   },
   "outputs": [
    {
     "data": {
      "text/plain": [
       "AIMessage(content='Dark matter is a hypothetical form of matter that is thought to make up about 27% of the total mass and energy in the universe. It does not emit, absorb, or reflect light, which is why it is invisible and has not been directly detected. Its existence is inferred from its gravitational effects on visible matter, such as stars and galaxies. Dark matter is believed to play a crucial role in the formation and structure of the universe, influencing the distribution of galaxies and the large-scale structure of the cosmos. Despite extensive efforts, the nature of dark matter remains one of the biggest unsolved mysteries in physics and cosmology.', response_metadata={'token_usage': {'completion_tokens': 125, 'prompt_tokens': 24, 'total_tokens': 149}, 'model_name': 'gpt-3.5-turbo-1106', 'system_fingerprint': None, 'finish_reason': 'stop', 'logprobs': None}, id='run-a6a30597-8209-431a-a5a0-c0830343f8fc-0')"
      ]
     },
     "execution_count": 16,
     "metadata": {},
     "output_type": "execute_result"
    }
   ],
   "source": [
    "chain = prompt | llm\n",
    "chain.invoke({\"input\": \"What is dark matter?\"})"
   ]
  },
  {
   "cell_type": "markdown",
   "id": "4d0b3673-5c60-49e6-a977-ea4d05829f4b",
   "metadata": {},
   "source": [
    "## Chaining\n",
    "\n",
    "The code above showcases chaining by use of the \"|\" symbol, you can now use a prompt with a specific llm and identify they output. You can create a chain of different objects which will affect the response, for instance this is adding an output parser that will just extract the string from the message above."
   ]
  },
  {
   "cell_type": "code",
   "execution_count": 19,
   "id": "a99e0fe3-dc80-4186-8df7-7cd6ce41e7a3",
   "metadata": {
    "tags": []
   },
   "outputs": [
    {
     "data": {
      "text/plain": [
       "'Dark matter is a hypothetical form of matter that is thought to make up about 27% of the total mass and energy in the universe. It does not emit, absorb, or reflect light, making it invisible and extremely difficult to detect directly. Its existence is inferred from its gravitational effects on visible matter, such as stars and galaxies.\\n\\nThe nature of dark matter is still not fully understood, and it is one of the biggest mysteries in modern physics. Various theoretical particles, such as weakly interacting massive particles (WIMPs) and axions, have been proposed as potential candidates for dark matter, but so far, no direct detection has been made. Research into dark matter continues to be a major focus of astrophysics and particle physics in order to better understand the fundamental nature of the universe.'"
      ]
     },
     "execution_count": 19,
     "metadata": {},
     "output_type": "execute_result"
    }
   ],
   "source": [
    "from langchain_core.output_parsers import StrOutputParser\n",
    "\n",
    "output_parser = StrOutputParser()\n",
    "chain = prompt | llm | output_parser\n",
    "chain.invoke({\"input\": \"What is dark matter?\"})"
   ]
  }
 ],
 "metadata": {
  "kernelspec": {
   "display_name": "Python 3 (ipykernel)",
   "language": "python",
   "name": "python3"
  },
  "language_info": {
   "codemirror_mode": {
    "name": "ipython",
    "version": 3
   },
   "file_extension": ".py",
   "mimetype": "text/x-python",
   "name": "python",
   "nbconvert_exporter": "python",
   "pygments_lexer": "ipython3",
   "version": "3.11.4"
  }
 },
 "nbformat": 4,
 "nbformat_minor": 5
}
