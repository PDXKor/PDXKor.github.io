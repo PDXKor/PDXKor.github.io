{
 "cells": [
  {
   "cell_type": "markdown",
   "metadata": {},
   "source": [
    "With Tensorflow 2.0, it is recommended that for multi-gpu training you used tf.distribute.MirroredStrategy() instead of keras multi_gpu. You can find more here: https://www.tensorflow.org/guide/distributed_training"
   ]
  },
  {
   "cell_type": "code",
   "execution_count": null,
   "metadata": {},
   "outputs": [],
   "source": [
    "import numpy as np\n",
    "import tensorflow as tf\n",
    "import matplotlib.pyplot as plt\n",
    "\n",
    "# Generate a sample sin wave\n",
    "x = np.array([np.linspace(0,100,1000)])\n",
    "y = np.sin(x)\n",
    "\n",
    "X = np.empty([1000,1000])\n",
    "Y = np.empty([1000,1000])\n",
    "\n",
    "for i in range(0,1000):\n",
    "  X[i] = x\n",
    "  Y[i] = y\n",
    "\n",
    "# Plot the sample sin wave\n",
    "plt.plot(Y[0])\n",
    "plt.show()\n",
    "\n",
    "# mirrored strategy is used to take advantage of local GPUs\n",
    "mirrored_strategy = tf.distribute.MirroredStrategy()\n",
    "with mirrored_strategy.scope():\n",
    "  # Define a model to fit the above data\n",
    "  model = tf.keras.Sequential([\n",
    "      tf.keras.layers.Dropout(rate=0.2, input_shape=x.shape[1:]),\n",
    "      tf.keras.layers.Dense(units=64, activation='sigmoid'),\n",
    "      tf.keras.layers.Dropout(rate=0.2),\n",
    "      tf.keras.layers.Dense(units=1000, activation='sigmoid')\n",
    "  ])\n",
    "  model.compile(loss='mse',\n",
    "              optimizer='adam',\n",
    "              metrics=['accuracy'])\n",
    "\n",
    "# Fit the model\n",
    "model.fit(X,Y, epochs=2000, batch_size=1024)\n",
    "\n",
    "# Get the prediction\n",
    "y_hat = model.predict(X)\n",
    "\n",
    "# Plot the results\n",
    "plt.plot(y_hat[0])\n",
    "plt.show()\n"
   ]
  },
  {
   "cell_type": "code",
   "execution_count": null,
   "metadata": {},
   "outputs": [],
   "source": []
  }
 ],
 "metadata": {
  "kernelspec": {
   "display_name": "Python 3",
   "language": "python",
   "name": "python3"
  },
  "language_info": {
   "codemirror_mode": {
    "name": "ipython",
    "version": 3
   },
   "file_extension": ".py",
   "mimetype": "text/x-python",
   "name": "python",
   "nbconvert_exporter": "python",
   "pygments_lexer": "ipython3",
   "version": "3.7.7"
  }
 },
 "nbformat": 4,
 "nbformat_minor": 4
}
