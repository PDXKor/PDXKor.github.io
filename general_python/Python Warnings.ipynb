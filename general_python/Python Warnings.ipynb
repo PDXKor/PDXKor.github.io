{
 "cells": [
  {
   "cell_type": "markdown",
   "metadata": {},
   "source": [
    "Warnings can be helpful when developing, especially if your code will be heavily reused. Here are some examples, but for official documentation on python warnings visit: https://docs.python.org/3.8/library/warnings.html\n",
    "\n",
    "The default type of a python warning is a UserWarning."
   ]
  },
  {
   "cell_type": "code",
   "execution_count": 1,
   "metadata": {},
   "outputs": [
    {
     "name": "stderr",
     "output_type": "stream",
     "text": [
      "C:\\Users\\15037\\Anaconda3\\lib\\site-packages\\ipykernel_launcher.py:10: UserWarning: The y variable type needs to be an int, instead type <class 'int'> was passed\n",
      "  # Remove the CWD from sys.path while we load stuff.\n"
     ]
    }
   ],
   "source": [
    "import warnings\n",
    "\n",
    "def add_int(x,y):\n",
    "    \n",
    "    if not isinstance(x,int):\n",
    "        warnings.warn('The x variable type needs to be an int, instead type '+str(type(x))+' was passed')\n",
    "        return None\n",
    "    \n",
    "    elif not isinstance(y,int):\n",
    "        warnings.warn('The y variable type needs to be an int, instead type '+str(type(x))+' was passed')\n",
    "        return None\n",
    "        \n",
    "        z=x+y\n",
    "        \n",
    "    return z\n",
    "\n",
    "add_int(2,3.0)"
   ]
  },
  {
   "cell_type": "markdown",
   "metadata": {},
   "source": [
    "You can call other warning types, such as a DeprecationWarning."
   ]
  },
  {
   "cell_type": "code",
   "execution_count": 2,
   "metadata": {},
   "outputs": [
    {
     "name": "stderr",
     "output_type": "stream",
     "text": [
      "C:\\Users\\15037\\Anaconda3\\lib\\site-packages\\ipykernel_launcher.py:5: DeprecationWarning: The add_int function will be deprecated in a future release, please use the add function.\n",
      "  \"\"\"\n",
      "C:\\Users\\15037\\Anaconda3\\lib\\site-packages\\ipykernel_launcher.py:12: UserWarning: The y variable type needs to be an int, instead type <class 'int'> was passed\n",
      "  if sys.path[0] == '':\n"
     ]
    }
   ],
   "source": [
    "class BasicMath:\n",
    "    \n",
    "    def add_int(self,x,y):\n",
    "    \n",
    "        warnings.warn('The add_int function will be deprecated in a future release, please use the add function.',DeprecationWarning)\n",
    "\n",
    "        if not isinstance(x,int):\n",
    "            warnings.warn('The x variable type needs to be an int, instead type '+str(type(x))+' was passed')\n",
    "            return None\n",
    "\n",
    "        elif not isinstance(y,int):\n",
    "            warnings.warn('The y variable type needs to be an int, instead type '+str(type(x))+' was passed')\n",
    "            return None\n",
    "\n",
    "            z=x+y\n",
    "\n",
    "        return z\n",
    "\n",
    "    def add(self,x,y):\n",
    "        return(x+y)\n",
    "    \n",
    "BasicMath().add_int(2,3.0)"
   ]
  },
  {
   "cell_type": "markdown",
   "metadata": {},
   "source": [
    "You can choose whether you want to filter out warnings."
   ]
  },
  {
   "cell_type": "code",
   "execution_count": 3,
   "metadata": {},
   "outputs": [
    {
     "name": "stdout",
     "output_type": "stream",
     "text": [
      "None\n"
     ]
    }
   ],
   "source": [
    "import sys\n",
    "\n",
    "if not sys.warnoptions:\n",
    "    import warnings\n",
    "    warnings.simplefilter(\"ignore\")\n",
    "\n",
    "print(BasicMath().add_int(2,3.0))"
   ]
  },
  {
   "cell_type": "markdown",
   "metadata": {},
   "source": [
    "You can also choose to throw warnings as errors."
   ]
  },
  {
   "cell_type": "code",
   "execution_count": 4,
   "metadata": {},
   "outputs": [
    {
     "ename": "DeprecationWarning",
     "evalue": "The add_int function will be deprecated in a future release, please use the add function.",
     "output_type": "error",
     "traceback": [
      "\u001b[1;31m---------------------------------------------------------------------------\u001b[0m",
      "\u001b[1;31mDeprecationWarning\u001b[0m                        Traceback (most recent call last)",
      "\u001b[1;32m<ipython-input-4-9724e90aae33>\u001b[0m in \u001b[0;36m<module>\u001b[1;34m\u001b[0m\n\u001b[0;32m      3\u001b[0m     \u001b[0mwarnings\u001b[0m\u001b[1;33m.\u001b[0m\u001b[0msimplefilter\u001b[0m\u001b[1;33m(\u001b[0m\u001b[1;34m\"error\"\u001b[0m\u001b[1;33m)\u001b[0m\u001b[1;33m\u001b[0m\u001b[1;33m\u001b[0m\u001b[0m\n\u001b[0;32m      4\u001b[0m \u001b[1;33m\u001b[0m\u001b[0m\n\u001b[1;32m----> 5\u001b[1;33m \u001b[0mprint\u001b[0m\u001b[1;33m(\u001b[0m\u001b[0mBasicMath\u001b[0m\u001b[1;33m(\u001b[0m\u001b[1;33m)\u001b[0m\u001b[1;33m.\u001b[0m\u001b[0madd_int\u001b[0m\u001b[1;33m(\u001b[0m\u001b[1;36m2\u001b[0m\u001b[1;33m,\u001b[0m\u001b[1;36m3.0\u001b[0m\u001b[1;33m)\u001b[0m\u001b[1;33m)\u001b[0m\u001b[1;33m\u001b[0m\u001b[1;33m\u001b[0m\u001b[0m\n\u001b[0m",
      "\u001b[1;32m<ipython-input-2-21136eb78d70>\u001b[0m in \u001b[0;36madd_int\u001b[1;34m(self, x, y)\u001b[0m\n\u001b[0;32m      3\u001b[0m     \u001b[1;32mdef\u001b[0m \u001b[0madd_int\u001b[0m\u001b[1;33m(\u001b[0m\u001b[0mself\u001b[0m\u001b[1;33m,\u001b[0m\u001b[0mx\u001b[0m\u001b[1;33m,\u001b[0m\u001b[0my\u001b[0m\u001b[1;33m)\u001b[0m\u001b[1;33m:\u001b[0m\u001b[1;33m\u001b[0m\u001b[1;33m\u001b[0m\u001b[0m\n\u001b[0;32m      4\u001b[0m \u001b[1;33m\u001b[0m\u001b[0m\n\u001b[1;32m----> 5\u001b[1;33m         \u001b[0mwarnings\u001b[0m\u001b[1;33m.\u001b[0m\u001b[0mwarn\u001b[0m\u001b[1;33m(\u001b[0m\u001b[1;34m'The add_int function will be deprecated in a future release, please use the add function.'\u001b[0m\u001b[1;33m,\u001b[0m\u001b[0mDeprecationWarning\u001b[0m\u001b[1;33m)\u001b[0m\u001b[1;33m\u001b[0m\u001b[1;33m\u001b[0m\u001b[0m\n\u001b[0m\u001b[0;32m      6\u001b[0m \u001b[1;33m\u001b[0m\u001b[0m\n\u001b[0;32m      7\u001b[0m         \u001b[1;32mif\u001b[0m \u001b[1;32mnot\u001b[0m \u001b[0misinstance\u001b[0m\u001b[1;33m(\u001b[0m\u001b[0mx\u001b[0m\u001b[1;33m,\u001b[0m\u001b[0mint\u001b[0m\u001b[1;33m)\u001b[0m\u001b[1;33m:\u001b[0m\u001b[1;33m\u001b[0m\u001b[1;33m\u001b[0m\u001b[0m\n",
      "\u001b[1;31mDeprecationWarning\u001b[0m: The add_int function will be deprecated in a future release, please use the add function."
     ]
    }
   ],
   "source": [
    "if not sys.warnoptions:\n",
    "    import warnings\n",
    "    warnings.simplefilter(\"error\")\n",
    "\n",
    "print(BasicMath().add_int(2,3.0))"
   ]
  },
  {
   "cell_type": "code",
   "execution_count": null,
   "metadata": {},
   "outputs": [],
   "source": []
  }
 ],
 "metadata": {
  "kernelspec": {
   "display_name": "Python 3",
   "language": "python",
   "name": "python3"
  },
  "language_info": {
   "codemirror_mode": {
    "name": "ipython",
    "version": 3
   },
   "file_extension": ".py",
   "mimetype": "text/x-python",
   "name": "python",
   "nbconvert_exporter": "python",
   "pygments_lexer": "ipython3",
   "version": "3.7.4"
  }
 },
 "nbformat": 4,
 "nbformat_minor": 4
}
