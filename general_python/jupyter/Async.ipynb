{
 "cells": [
  {
   "cell_type": "markdown",
   "metadata": {},
   "source": [
    "# Asynchronous Programming in Python\n",
    "\n",
    "Python, by default, operates in a single thread due to the Global Interpreter Lock (GIL). This design means that asynchronous programming in Python is most effective for I/O-bound tasks. For example, if your program needs to download a large volume of data over the internet, asynchronous programming allows it to perform other operations (such as updating the UI or processing data) while waiting for the network response.\n",
    "\n",
    "However, for CPU-bound tasks—where the primary workload is intensive computations—multi-threading (or even multiprocessing) might be more appropriate. This is because asynchronous programming doesn't provide significant benefits when the bottleneck is the CPU rather than waiting on I/O operations."
   ]
  },
  {
   "cell_type": "code",
   "execution_count": 31,
   "metadata": {},
   "outputs": [
    {
     "name": "stdout",
     "output_type": "stream",
     "text": [
      "Downloading large data file...\n",
      "I'm waiting\n",
      "Download complete!\n",
      "Total characters downloaded: 6488666\n",
      "I'm waiting\n"
     ]
    }
   ],
   "source": [
    "import aiohttp\n",
    "import asyncio\n",
    "\n",
    "async def fetch_large_file(url):\n",
    "    \"\"\"Fetch a large file from the given URL and return its content as text.\"\"\"\n",
    "    async with aiohttp.ClientSession() as session:\n",
    "        async with session.get(url) as response:\n",
    "            # We can stream the response in chunks to avoid loading everything into memory at once.\n",
    "            data = bytearray()\n",
    "            async for chunk in response.content.iter_chunked(1):  # 1024 bytes per chunk\n",
    "                data.extend(chunk)\n",
    "            return data.decode('utf-8')\n",
    "\n",
    "async def read_file():\n",
    "    url = \"https://norvig.com/big.txt\"\n",
    "    print(\"Downloading large data file...\")\n",
    "    content = await fetch_large_file(url)\n",
    "    print(\"Download complete!\")\n",
    "    print(\"Total characters downloaded:\", len(content))\n",
    "    return content[0:100]\n",
    "    # Further processing can be done here\n",
    "\n",
    "async def say_after(delay, message):\n",
    "    # Simulate an I/O-bound operation with asyncio.sleep\n",
    "    await asyncio.sleep(delay)\n",
    "    print(message)\n",
    "    return message\n",
    "\n",
    "async def main():\n",
    "    task1 = asyncio.create_task(read_file())\n",
    "    task2 = asyncio.create_task(say_after(0,\"I'm waiting\"))\n",
    "    content, msg = await asyncio.gather(task1, task2)\n",
    "    print(msg)\n",
    "    \n",
    "await main()\n"
   ]
  },
  {
   "cell_type": "markdown",
   "metadata": {},
   "source": [
    "One thing to note is how the main function handles the tasks. When you use `content, msg = await asyncio.gather(task1, task2)`, the call to `asyncio.gather()` waits for both tasks to finish before returning their results. This means that even if the say_after function completes (and its result is ready) before read_file finishes downloading, the result of say_after won’t be printed until after both tasks have completed. In other words, while say_after may finish early, the `await asyncio.gather(...)` call delays processing until all tasks are done. If you want to see the \"I'm waiting\" message immediately when say_after finishes, you could either print it directly inside say_after or use `asyncio.as_completed()` to handle tasks as they complete.\n",
    "\n",
    "Lets look at using `asyncio.as_completed()`"
   ]
  },
  {
   "cell_type": "code",
   "execution_count": 32,
   "metadata": {},
   "outputs": [
    {
     "name": "stdout",
     "output_type": "stream",
     "text": [
      "Downloading large data file...\n",
      "I'm waiting\n",
      "Download complete!\n",
      "Total characters downloaded: 6488666\n",
      "The Project Gutenberg EBook of The Adventures of Sherlock Holmes\n",
      "by Sir Arthur Conan Doyle\n",
      "(#15 in o\n"
     ]
    }
   ],
   "source": [
    "async def say_after(delay, message):\n",
    "    # Simulate an I/O-bound operation with asyncio.sleep\n",
    "    await asyncio.sleep(delay)\n",
    "    #print(message) - removing print so we can see the change\n",
    "    return message\n",
    "\n",
    "async def main():\n",
    "    tasks = [asyncio.create_task(read_file()), \n",
    "             asyncio.create_task(say_after(0, \"I'm waiting\"))]\n",
    "    \n",
    "    for completed in asyncio.as_completed(tasks):\n",
    "        result = await completed\n",
    "        print(result)\n",
    "\n",
    "await main()"
   ]
  }
 ],
 "metadata": {
  "kernelspec": {
   "display_name": "base",
   "language": "python",
   "name": "python3"
  },
  "language_info": {
   "codemirror_mode": {
    "name": "ipython",
    "version": 3
   },
   "file_extension": ".py",
   "mimetype": "text/x-python",
   "name": "python",
   "nbconvert_exporter": "python",
   "pygments_lexer": "ipython3",
   "version": "3.11.4"
  }
 },
 "nbformat": 4,
 "nbformat_minor": 2
}
