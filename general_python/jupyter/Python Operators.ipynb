{
 "cells": [
  {
   "cell_type": "markdown",
   "id": "3bcf0183",
   "metadata": {},
   "source": [
    "# Python Operators\n",
    "\n",
    "Operators are special Symbols that perform operations on one or more operands or values and return a result. Python has the following operator types:\n",
    "\n",
    "* Arithmetic Operators\n",
    "* Relational Operators\n",
    "* Assignment Operators\n",
    "* Logical Operators\n",
    "* Membership Operators\n",
    "* Identity Operators\n",
    "* Bitwise Operators (not covered here)\n",
    "\n",
    "## Arithmetic Operators\n",
    "\n",
    "I'm just going to review a subset of operators here which are the Modulus, Floor Division, and Exponent Operators.\n",
    "\n",
    "### Floor Division\n",
    "\n",
    "Floor division returns the quotient, or the result of divisin, in which the digits after the decimal point are removed. It is denoted by a **//** symbol. It can be performed on both integer and floating point operand types. If one operand type is a float the result will be a float."
   ]
  },
  {
   "cell_type": "code",
   "execution_count": 23,
   "id": "82b97d3e",
   "metadata": {},
   "outputs": [
    {
     "name": "stdout",
     "output_type": "stream",
     "text": [
      "4.0\n",
      "4\n",
      "3\n",
      "3.4285714285714284\n",
      "10.909090909090908\n",
      "10.0\n"
     ]
    }
   ],
   "source": [
    "x = 24\n",
    "y = 6\n",
    "z = 2.2\n",
    "\n",
    "# here there is a whole number as a division\n",
    "print(x/y)\n",
    "print(x//y)\n",
    "\n",
    "# when we add one there is no longer a whole number - 24 / 7 which 3.428. With floor division we remove the .428\n",
    "print(x//(y+1))\n",
    "print(x/(y+1))\n",
    "\n",
    "# here we are dealing with float operands, so we will recieve the floor result as a float\n",
    "print(x/z)\n",
    "print(x//z)"
   ]
  },
  {
   "cell_type": "markdown",
   "id": "8d252238",
   "metadata": {},
   "source": [
    "### Modulus\n",
    "\n",
    "The remainder of the division of left operand by right is given by using the modulus operator which has a symbol of **%**.\n"
   ]
  },
  {
   "cell_type": "code",
   "execution_count": 24,
   "id": "99bf70bf",
   "metadata": {},
   "outputs": [
    {
     "name": "stdout",
     "output_type": "stream",
     "text": [
      "1\n",
      "2\n"
     ]
    }
   ],
   "source": [
    "x = 7\n",
    "y = 2\n",
    "\n",
    "# we know that the nearest whole number we can get is 6/2 = 3, so we are one off from 7\n",
    "print (x%y)\n",
    "\n",
    "# we know that the nearest whole number for division by 9 would be 18 which is 2 off from 20\n",
    "x = 20\n",
    "y = 9\n",
    "print(x%y)"
   ]
  },
  {
   "cell_type": "markdown",
   "id": "1b16f8b5",
   "metadata": {},
   "source": [
    "One way to use the Modulus operator is to check if a number is odd. For instance take a look at the following function. If take any number and can divide it evenly by two it is considered even. Therefore the result of the modulus operator should be zero. We can check for this on any number. "
   ]
  },
  {
   "cell_type": "code",
   "execution_count": 25,
   "id": "41e24b0e",
   "metadata": {},
   "outputs": [
    {
     "name": "stdout",
     "output_type": "stream",
     "text": [
      "False\n",
      "True\n"
     ]
    }
   ],
   "source": [
    "def is_even(num):\n",
    "    return num % 2 == 0\n",
    "\n",
    "print(is_even(7))\n",
    "print(is_even(8))"
   ]
  },
  {
   "cell_type": "markdown",
   "id": "2ab764c5",
   "metadata": {},
   "source": [
    "We can use the same functionality to check if the number is odd."
   ]
  },
  {
   "cell_type": "code",
   "execution_count": 26,
   "id": "6fb772cf",
   "metadata": {},
   "outputs": [
    {
     "name": "stdout",
     "output_type": "stream",
     "text": [
      "True\n",
      "True\n"
     ]
    }
   ],
   "source": [
    "def is_odd(num):\n",
    "    return num % 2 != 0\n",
    "\n",
    "print(is_odd(7))\n",
    "print(is_even(8))"
   ]
  },
  {
   "cell_type": "code",
   "execution_count": null,
   "id": "06072b6c",
   "metadata": {},
   "outputs": [],
   "source": [
    "def split_by_index(input_list,modulus=2):\n",
    "    for index, name in enumerate(input_list):\n",
    "        print(input_list[index])\n",
    "        if index % modulus == 0:\n",
    "            print()"
   ]
  },
  {
   "cell_type": "markdown",
   "id": "ac979260",
   "metadata": {},
   "source": [
    "### Exponent \n",
    "\n",
    "The exponent symbol is ** and it is important to understand how this operator works on operands from left to right. "
   ]
  },
  {
   "cell_type": "code",
   "execution_count": 27,
   "id": "232198a6",
   "metadata": {},
   "outputs": [
    {
     "name": "stdout",
     "output_type": "stream",
     "text": [
      "512\n"
     ]
    }
   ],
   "source": [
    "print(2**3**2)"
   ]
  },
  {
   "cell_type": "markdown",
   "id": "ee41f1c7",
   "metadata": {},
   "source": [
    "This can be confusing but the order in which this operation is performed goes like this:"
   ]
  },
  {
   "cell_type": "code",
   "execution_count": 28,
   "id": "a64094be",
   "metadata": {},
   "outputs": [
    {
     "data": {
      "text/plain": [
       "9"
      ]
     },
     "execution_count": 28,
     "metadata": {},
     "output_type": "execute_result"
    }
   ],
   "source": [
    "3**2"
   ]
  },
  {
   "cell_type": "code",
   "execution_count": 29,
   "id": "c43d1d90",
   "metadata": {},
   "outputs": [
    {
     "data": {
      "text/plain": [
       "512"
      ]
     },
     "execution_count": 29,
     "metadata": {},
     "output_type": "execute_result"
    }
   ],
   "source": [
    "2**9"
   ]
  },
  {
   "cell_type": "code",
   "execution_count": 30,
   "id": "050eea40",
   "metadata": {},
   "outputs": [
    {
     "data": {
      "text/plain": [
       "512"
      ]
     },
     "execution_count": 30,
     "metadata": {},
     "output_type": "execute_result"
    }
   ],
   "source": [
    "# or\n",
    "(2**(3**2))"
   ]
  },
  {
   "cell_type": "markdown",
   "id": "aeda8b05",
   "metadata": {},
   "source": [
    "## Assignment Operators\n",
    "\n",
    "Assignment operators are used to assign a value to a variable. "
   ]
  },
  {
   "cell_type": "code",
   "execution_count": 1,
   "id": "6419fa32",
   "metadata": {},
   "outputs": [
    {
     "name": "stdout",
     "output_type": "stream",
     "text": [
      "1\n",
      "2\n",
      "1\n",
      "2\n",
      "1.0\n",
      "0.0\n",
      "0.0\n"
     ]
    }
   ],
   "source": [
    "# assign\n",
    "a = 1\n",
    "print(a)\n",
    "\n",
    "# add and assign\n",
    "a += 1 \n",
    "print(a)\n",
    "\n",
    "# subtract and assign\n",
    "a -= 1\n",
    "print(a)\n",
    "\n",
    "# multiply and assign\n",
    "a *= 2\n",
    "print(a)\n",
    "\n",
    "# divide and assign\n",
    "a /= 2\n",
    "print(a)\n",
    "\n",
    "# modulus and assign\n",
    "a %= 1\n",
    "print(a)\n",
    "\n",
    "# exponent and assign\n",
    "a **= 2 \n",
    "print(a)"
   ]
  },
  {
   "cell_type": "markdown",
   "id": "783f262b",
   "metadata": {},
   "source": [
    "## Logical Operators\n",
    "\n",
    "Logical operators help check for boolean conditions of True and False. "
   ]
  },
  {
   "cell_type": "code",
   "execution_count": 5,
   "id": "bfb052e6",
   "metadata": {},
   "outputs": [
    {
     "name": "stdout",
     "output_type": "stream",
     "text": [
      "both are true\n",
      "one is true\n",
      "b is not true, b is  False\n"
     ]
    }
   ],
   "source": [
    "a = True\n",
    "b = True\n",
    "\n",
    "if a and b:\n",
    "    print('both are true')\n",
    "    \n",
    "b = False\n",
    "if a or b:\n",
    "    print('one is true')\n",
    "    \n",
    "if not b:\n",
    "    print('b is not true, b is ', b)\n",
    " "
   ]
  },
  {
   "cell_type": "markdown",
   "id": "f7282ef7",
   "metadata": {},
   "source": [
    "## Membership Operators\n",
    "\n",
    "Python's membership operators are used to check for membership of objects in sequence such as string, list, tuple."
   ]
  },
  {
   "cell_type": "code",
   "execution_count": 6,
   "id": "27268ed1",
   "metadata": {},
   "outputs": [
    {
     "name": "stdout",
     "output_type": "stream",
     "text": [
      "my list contains 10.\n",
      "my list does not contain 1.\n"
     ]
    }
   ],
   "source": [
    "my_list = [10,30,5,7,2,6,10]\n",
    "\n",
    "if 10 in my_list:\n",
    "    print('my list contains 10.')\n",
    "    \n",
    "if 1 not in my_list:\n",
    "    print('my list does not contain 1.')"
   ]
  },
  {
   "cell_type": "code",
   "execution_count": null,
   "id": "91a32f64",
   "metadata": {},
   "outputs": [],
   "source": []
  }
 ],
 "metadata": {
  "kernelspec": {
   "display_name": "Python 3 (ipykernel)",
   "language": "python",
   "name": "python3"
  },
  "language_info": {
   "codemirror_mode": {
    "name": "ipython",
    "version": 3
   },
   "file_extension": ".py",
   "mimetype": "text/x-python",
   "name": "python",
   "nbconvert_exporter": "python",
   "pygments_lexer": "ipython3",
   "version": "3.9.7"
  }
 },
 "nbformat": 4,
 "nbformat_minor": 5
}
