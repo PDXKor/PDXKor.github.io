{
 "cells": [
  {
   "cell_type": "markdown",
   "metadata": {},
   "source": [
    "For official documentation on python classes visit: https://docs.python.org/3/tutorial/classes.html\n",
    "\n",
    "Creating a class in python, similar to other languages, creates a new type of object which can allows for instances of that object to be made. Classes can define attributes and methods to be used during the lifecycle of that object. Python supports class inheritance, but we will not dive into that here. \n",
    "\n",
    "A basic class definition is as below:"
   ]
  },
  {
   "cell_type": "code",
   "execution_count": 7,
   "metadata": {},
   "outputs": [
    {
     "name": "stdout",
     "output_type": "stream",
     "text": [
      "APPL\n"
     ]
    }
   ],
   "source": [
    "class Stock:\n",
    "    \n",
    "    # the init function gets executed once the object Stock is instantiated\n",
    "    def __init__(self,ticker):\n",
    "        self.ticker = ticker\n",
    "    \n",
    "    def return_ticker(self):\n",
    "        print(self.ticker)\n",
    "        \n",
    "        \n",
    "APPL = Stock('APPL')\n",
    "APPL.return_ticker()"
   ]
  },
  {
   "cell_type": "markdown",
   "metadata": {},
   "source": [
    "You can store a function from a class as a variable and call it later."
   ]
  },
  {
   "cell_type": "code",
   "execution_count": 10,
   "metadata": {},
   "outputs": [
    {
     "name": "stdout",
     "output_type": "stream",
     "text": [
      "APPL\n"
     ]
    }
   ],
   "source": [
    "rt = APPL.return_ticker\n",
    "rt()"
   ]
  },
  {
   "cell_type": "markdown",
   "metadata": {},
   "source": [
    "There are two type of variables within a class. A class variable is shared between all instances of that class."
   ]
  },
  {
   "cell_type": "code",
   "execution_count": 12,
   "metadata": {},
   "outputs": [
    {
     "name": "stdout",
     "output_type": "stream",
     "text": [
      "https://financialmodelingprep.com/api/v3/\n",
      "https://financialmodelingprep.com/api/v3/\n"
     ]
    }
   ],
   "source": [
    "class Stock:\n",
    "    \n",
    "    base_request_url = 'https://financialmodelingprep.com/api/v3/'\n",
    "    \n",
    "    # the init function gets executed once the object Stock is instantiated\n",
    "    def __init__(self,ticker):\n",
    "        self.ticker = ticker\n",
    "    \n",
    "    def return_ticker(self):\n",
    "        print(self.ticker)\n",
    "    \n",
    "INTC = Stock('INTC')\n",
    "print(INTC.base_request_url)\n",
    "\n",
    "MSFT = Stock('MSFT')\n",
    "print(MSFT.base_request_url)"
   ]
  },
  {
   "cell_type": "code",
   "execution_count": null,
   "metadata": {},
   "outputs": [],
   "source": [
    "An instance variable is one that is specific to the instance, which has already been showed above."
   ]
  },
  {
   "cell_type": "code",
   "execution_count": 13,
   "metadata": {},
   "outputs": [
    {
     "name": "stdout",
     "output_type": "stream",
     "text": [
      "INTC\n",
      "MSFT\n"
     ]
    }
   ],
   "source": [
    "class Stock:\n",
    "    \n",
    "    base_request_url = 'https://financialmodelingprep.com/api/v3/'\n",
    "    \n",
    "    # the init function gets executed once the object Stock is instantiated\n",
    "    def __init__(self,ticker):\n",
    "        self.ticker = ticker\n",
    "    \n",
    "    def return_ticker(self):\n",
    "        print(self.ticker)\n",
    "    \n",
    "INTC = Stock('INTC')\n",
    "print(INTC.ticker)\n",
    "\n",
    "MSFT = Stock('MSFT')\n",
    "print(MSFT.ticker)"
   ]
  },
  {
   "cell_type": "markdown",
   "metadata": {},
   "source": [
    "If the same name occurs in both the instance and the class - the instance class wins."
   ]
  },
  {
   "cell_type": "code",
   "execution_count": 14,
   "metadata": {},
   "outputs": [
    {
     "name": "stdout",
     "output_type": "stream",
     "text": [
      "INTC\n",
      "MSFT\n"
     ]
    }
   ],
   "source": [
    "class Stock:\n",
    "    \n",
    "    base_request_url = 'https://financialmodelingprep.com/api/v3/'\n",
    "    ticker = 'APPL'\n",
    "    \n",
    "    # the init function gets executed once the object Stock is instantiated\n",
    "    def __init__(self,ticker):\n",
    "        self.ticker = ticker\n",
    "    \n",
    "    def return_ticker(self):\n",
    "        print(self.ticker)\n",
    "    \n",
    "INTC = Stock('INTC')\n",
    "print(INTC.ticker)\n",
    "\n",
    "MSFT = Stock('MSFT')\n",
    "print(MSFT.ticker)"
   ]
  },
  {
   "cell_type": "markdown",
   "metadata": {},
   "source": [
    "An instance of a class may call a function defined in it's own instance. "
   ]
  },
  {
   "cell_type": "code",
   "execution_count": 18,
   "metadata": {},
   "outputs": [
    {
     "name": "stdout",
     "output_type": "stream",
     "text": [
      "[]\n",
      "[10]\n",
      "[10, 55]\n"
     ]
    }
   ],
   "source": [
    "class Stock:\n",
    "    \n",
    "    base_request_url = 'https://financialmodelingprep.com/api/v3/'\n",
    "    ticker = 'APPL'\n",
    "    \n",
    "    def __init__(self,ticker):\n",
    "        self.ticker = ticker\n",
    "        self.daily_close = []\n",
    "    \n",
    "    def return_ticker(self):\n",
    "        print(self.ticker)\n",
    "        \n",
    "    def get_last_close(self):\n",
    "        return 10\n",
    "        \n",
    "    def add_daily_close(self,last_close=None):\n",
    "        if last_close is None:\n",
    "            last_close = self.get_last_close()\n",
    "        \n",
    "        self.daily_close.append(last_close)\n",
    "        \n",
    "   \n",
    "INTC = Stock('INTC')\n",
    "print(INTC.daily_close)\n",
    "\n",
    "# when no value is passed it will call the get_last_close function which will return 10\n",
    "INTC.add_daily_close()\n",
    "print(INTC.daily_close)\n",
    "\n",
    "# when a value is passed it will append that value to the daily close list\n",
    "INTC.add_daily_close(55)\n",
    "print(INTC.daily_close)"
   ]
  },
  {
   "cell_type": "markdown",
   "metadata": {},
   "source": [
    "In python there is no such thing as a private variable, however there is a convention that developers commonly use to denote a private variable."
   ]
  },
  {
   "cell_type": "code",
   "execution_count": 22,
   "metadata": {},
   "outputs": [
    {
     "data": {
      "text/plain": [
       "'https://financialmodelingprep.com/api/v3/'"
      ]
     },
     "execution_count": 22,
     "metadata": {},
     "output_type": "execute_result"
    }
   ],
   "source": [
    "class Stock:\n",
    "    \n",
    "    ticker = 'APPL'\n",
    "        \n",
    "    def __init__(self,ticker):\n",
    "        self.ticker = ticker\n",
    "        self.daily_close = []\n",
    "        # a single underscore usually notes a variable that is private, and should not be changed\n",
    "        self._base_request_url = 'https://financialmodelingprep.com/api/v3/' \n",
    "    \n",
    "    def return_ticker(self):\n",
    "        print(self.ticker)\n",
    "        \n",
    "    def get_last_close(self):\n",
    "        return 10\n",
    "        \n",
    "    def add_daily_close(self,last_close=None):\n",
    "        if last_close is None:\n",
    "            last_close = self.get_last_close()\n",
    "        \n",
    "        self.daily_close.append(last_close)\n",
    "        \n",
    "   \n",
    "INTC = Stock('INTC')\n",
    "INTC._base_request_url"
   ]
  },
  {
   "cell_type": "markdown",
   "metadata": {},
   "source": [
    "If you would like to look at the instance attributes, you can use the dict with two leading and trailing underscores."
   ]
  },
  {
   "cell_type": "code",
   "execution_count": 23,
   "metadata": {},
   "outputs": [
    {
     "data": {
      "text/plain": [
       "{'ticker': 'INTC',\n",
       " 'daily_close': [],\n",
       " '_base_request_url': 'https://financialmodelingprep.com/api/v3/'}"
      ]
     },
     "execution_count": 23,
     "metadata": {},
     "output_type": "execute_result"
    }
   ],
   "source": [
    "INTC.__dict__"
   ]
  },
  {
   "cell_type": "markdown",
   "metadata": {},
   "source": [
    "If you would like to look at all attributes of an instance, you can use class followed by dict."
   ]
  },
  {
   "cell_type": "code",
   "execution_count": 26,
   "metadata": {},
   "outputs": [
    {
     "data": {
      "text/plain": [
       "mappingproxy({'__module__': '__main__',\n",
       "              'ticker': 'APPL',\n",
       "              '__init__': <function __main__.Stock.__init__(self, ticker)>,\n",
       "              'return_ticker': <function __main__.Stock.return_ticker(self)>,\n",
       "              'get_last_close': <function __main__.Stock.get_last_close(self)>,\n",
       "              'add_daily_close': <function __main__.Stock.add_daily_close(self, last_close=None)>,\n",
       "              '__dict__': <attribute '__dict__' of 'Stock' objects>,\n",
       "              '__weakref__': <attribute '__weakref__' of 'Stock' objects>,\n",
       "              '__doc__': None})"
      ]
     },
     "execution_count": 26,
     "metadata": {},
     "output_type": "execute_result"
    }
   ],
   "source": [
    "INTC.__class__.__dict__"
   ]
  }
 ],
 "metadata": {
  "kernelspec": {
   "display_name": "Python 3 (ipykernel)",
   "language": "python",
   "name": "python3"
  },
  "language_info": {
   "codemirror_mode": {
    "name": "ipython",
    "version": 3
   },
   "file_extension": ".py",
   "mimetype": "text/x-python",
   "name": "python",
   "nbconvert_exporter": "python",
   "pygments_lexer": "ipython3",
   "version": "3.9.7"
  }
 },
 "nbformat": 4,
 "nbformat_minor": 4
}
