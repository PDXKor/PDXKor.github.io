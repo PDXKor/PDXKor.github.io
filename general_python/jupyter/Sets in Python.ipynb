{
 "cells": [
  {
   "cell_type": "markdown",
   "id": "25949087",
   "metadata": {},
   "source": [
    "## Sets\n",
    "\n",
    "Sets in python are treated like sets in mathematics, and similar operations can be performed. A good reference for Sets in python can be found here:\n",
    "\n",
    "https://realpython.com/python-sets/\n",
    "\n",
    "\n",
    "### Properties of Sets\n",
    "* Unordered (although you likely will see elements re-ordered)\n",
    "* Drops duplicate values (keeps one value only)\n",
    "* The set is mutable but the elements of the set must be immutable"
   ]
  },
  {
   "cell_type": "markdown",
   "id": "496410af",
   "metadata": {},
   "source": [
    "You can create a set by calling the set function and passing in an iterable object, like this case we use a list as an iteratable and create a set from a list."
   ]
  },
  {
   "cell_type": "code",
   "execution_count": 37,
   "id": "a07c583b",
   "metadata": {},
   "outputs": [
    {
     "data": {
      "text/plain": [
       "{1, 2, 3}"
      ]
     },
     "execution_count": 37,
     "metadata": {},
     "output_type": "execute_result"
    }
   ],
   "source": [
    "s = set([1,2,3])\n",
    "s"
   ]
  },
  {
   "cell_type": "markdown",
   "id": "30552a52",
   "metadata": {},
   "source": [
    "Strings are also iterables so we can create sets from strings."
   ]
  },
  {
   "cell_type": "code",
   "execution_count": 38,
   "id": "57d124db",
   "metadata": {},
   "outputs": [
    {
     "data": {
      "text/plain": [
       "{'e', 'h', 'l', 'o'}"
      ]
     },
     "execution_count": 38,
     "metadata": {},
     "output_type": "execute_result"
    }
   ],
   "source": [
    "string = 'hello'\n",
    "s = set(string)\n",
    "s"
   ]
  },
  {
   "cell_type": "markdown",
   "id": "9b7c0ada",
   "metadata": {},
   "source": [
    "You can also create sets like below, in which case the string that was used to create the set was kept intact. "
   ]
  },
  {
   "cell_type": "code",
   "execution_count": 39,
   "id": "32c7e653",
   "metadata": {},
   "outputs": [
    {
     "data": {
      "text/plain": [
       "{'hello'}"
      ]
     },
     "execution_count": 39,
     "metadata": {},
     "output_type": "execute_result"
    }
   ],
   "source": [
    "s = {'hello'}\n",
    "s"
   ]
  },
  {
   "cell_type": "markdown",
   "id": "2cd24a25",
   "metadata": {},
   "source": [
    "If you want to create an empty set you must use the set function notation, or else Python will interpret the empty brackets as an empty dictionary."
   ]
  },
  {
   "cell_type": "code",
   "execution_count": 40,
   "id": "5c9f1ac0",
   "metadata": {},
   "outputs": [
    {
     "data": {
      "text/plain": [
       "dict"
      ]
     },
     "execution_count": 40,
     "metadata": {},
     "output_type": "execute_result"
    }
   ],
   "source": [
    "s = {}\n",
    "type(s)"
   ]
  },
  {
   "cell_type": "code",
   "execution_count": 41,
   "id": "146dc7d9",
   "metadata": {},
   "outputs": [
    {
     "data": {
      "text/plain": [
       "set"
      ]
     },
     "execution_count": 41,
     "metadata": {},
     "output_type": "execute_result"
    }
   ],
   "source": [
    "s = set()\n",
    "type(s)"
   ]
  },
  {
   "cell_type": "markdown",
   "id": "429f56ab",
   "metadata": {},
   "source": [
    "## Set Operations & Methods\n",
    "\n",
    "There are four binary operators for sets in Python.\n",
    "\n",
    "### Intersection Operator\n",
    "Produces a set with elements common to both sets."
   ]
  },
  {
   "cell_type": "code",
   "execution_count": 42,
   "id": "893b5ccc",
   "metadata": {},
   "outputs": [
    {
     "data": {
      "text/plain": [
       "{2, 3}"
      ]
     },
     "execution_count": 42,
     "metadata": {},
     "output_type": "execute_result"
    }
   ],
   "source": [
    "set_a = {1,2,3}\n",
    "set_b = {3,2,4}\n",
    "set_a & set_b"
   ]
  },
  {
   "cell_type": "markdown",
   "id": "2fd3e739",
   "metadata": {},
   "source": [
    "### Intersection Method"
   ]
  },
  {
   "cell_type": "code",
   "execution_count": 43,
   "id": "1eb3e6e6",
   "metadata": {},
   "outputs": [
    {
     "data": {
      "text/plain": [
       "{2, 3}"
      ]
     },
     "execution_count": 43,
     "metadata": {},
     "output_type": "execute_result"
    }
   ],
   "source": [
    "set_a.intersection(set_b)"
   ]
  },
  {
   "cell_type": "markdown",
   "id": "90fe7994",
   "metadata": {},
   "source": [
    "### Union Operator\n",
    "\n",
    "Produces a set of all elements in both sets."
   ]
  },
  {
   "cell_type": "code",
   "execution_count": 44,
   "id": "b13d90cf",
   "metadata": {},
   "outputs": [
    {
     "data": {
      "text/plain": [
       "{'a', 'b', 'c', 'd', 'e', 'f'}"
      ]
     },
     "execution_count": 44,
     "metadata": {},
     "output_type": "execute_result"
    }
   ],
   "source": [
    "set_a = {'a','b','c'}\n",
    "set_b = {'d','e','f'}\n",
    "\n",
    "set_a | set_b"
   ]
  },
  {
   "cell_type": "markdown",
   "id": "8a75cae2",
   "metadata": {},
   "source": [
    "### Union Method"
   ]
  },
  {
   "cell_type": "code",
   "execution_count": 45,
   "id": "3b0ec108",
   "metadata": {},
   "outputs": [
    {
     "data": {
      "text/plain": [
       "{'a', 'b', 'c', 'd', 'e', 'f'}"
      ]
     },
     "execution_count": 45,
     "metadata": {},
     "output_type": "execute_result"
    }
   ],
   "source": [
    "set_a.union(set_b)"
   ]
  },
  {
   "cell_type": "markdown",
   "id": "9a58d3a0",
   "metadata": {},
   "source": [
    "### Difference Operator\n",
    "\n",
    "Produces a set with elements in the left hand side but not in the right hand side."
   ]
  },
  {
   "cell_type": "code",
   "execution_count": 46,
   "id": "e54fc89f",
   "metadata": {},
   "outputs": [
    {
     "data": {
      "text/plain": [
       "{100, 200}"
      ]
     },
     "execution_count": 46,
     "metadata": {},
     "output_type": "execute_result"
    }
   ],
   "source": [
    "set_x = {100,200,300}\n",
    "set_y = {300,500}\n",
    "\n",
    "set_x - set_y"
   ]
  },
  {
   "cell_type": "markdown",
   "id": "6926947b",
   "metadata": {},
   "source": [
    "### Difference Method"
   ]
  },
  {
   "cell_type": "code",
   "execution_count": 47,
   "id": "7c4e87dd",
   "metadata": {},
   "outputs": [
    {
     "data": {
      "text/plain": [
       "{100, 200}"
      ]
     },
     "execution_count": 47,
     "metadata": {},
     "output_type": "execute_result"
    }
   ],
   "source": [
    "set_x.difference(set_y)"
   ]
  },
  {
   "cell_type": "markdown",
   "id": "00bd7a2f",
   "metadata": {},
   "source": [
    "### Symmetric Difference\n",
    "\n",
    "Produces a set with elements of both sets that are in either of the sets but not both, replicates the bitwise XOR."
   ]
  },
  {
   "cell_type": "code",
   "execution_count": 48,
   "id": "f85624f3",
   "metadata": {},
   "outputs": [
    {
     "data": {
      "text/plain": [
       "{2, 3, 4}"
      ]
     },
     "execution_count": 48,
     "metadata": {},
     "output_type": "execute_result"
    }
   ],
   "source": [
    "set_a = {1,2,3}\n",
    "set_b = {1,4}\n",
    "set_a ^ set_b"
   ]
  },
  {
   "cell_type": "markdown",
   "id": "8ced5183",
   "metadata": {},
   "source": [
    "### Symmetric Difference Method"
   ]
  },
  {
   "cell_type": "code",
   "execution_count": 49,
   "id": "63e5e99f",
   "metadata": {},
   "outputs": [
    {
     "data": {
      "text/plain": [
       "{2, 3, 4}"
      ]
     },
     "execution_count": 49,
     "metadata": {},
     "output_type": "execute_result"
    }
   ],
   "source": [
    "set_a.symmetric_difference(set_b)"
   ]
  },
  {
   "cell_type": "code",
   "execution_count": null,
   "id": "79c159e9",
   "metadata": {},
   "outputs": [],
   "source": []
  }
 ],
 "metadata": {
  "kernelspec": {
   "display_name": "Python 3 (ipykernel)",
   "language": "python",
   "name": "python3"
  },
  "language_info": {
   "codemirror_mode": {
    "name": "ipython",
    "version": 3
   },
   "file_extension": ".py",
   "mimetype": "text/x-python",
   "name": "python",
   "nbconvert_exporter": "python",
   "pygments_lexer": "ipython3",
   "version": "3.9.7"
  }
 },
 "nbformat": 4,
 "nbformat_minor": 5
}
