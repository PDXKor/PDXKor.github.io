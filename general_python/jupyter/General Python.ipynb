{
 "cells": [
  {
   "cell_type": "markdown",
   "id": "849480a7",
   "metadata": {},
   "source": [
    "Need to practice:\n",
    "\n",
    "Modulo\n",
    "Floor Division\n",
    "List question in 14\n",
    "Binary operators with question 17\n",
    "In 18 - why did it select y instead of x and y"
   ]
  },
  {
   "cell_type": "markdown",
   "id": "61397f28",
   "metadata": {},
   "source": [
    "https://www.freecodecamp.org/news/the-python-modulo-operator-what-does-the-symbol-mean-in-python-solved/#:~:text=The%20%25%20symbol%20in%20Python%20is,remainder%20of%20a%20division%20problem"
   ]
  },
  {
   "cell_type": "code",
   "execution_count": 1,
   "id": "cffbb0fb",
   "metadata": {},
   "outputs": [
    {
     "name": "stdout",
     "output_type": "stream",
     "text": [
      "2\n"
     ]
    }
   ],
   "source": [
    "# this is the modulo operator and returns the remainder of dividing the left hand operand by the right hand operand\n",
    "print(2%6)"
   ]
  },
  {
   "cell_type": "code",
   "execution_count": 2,
   "id": "d8abae8d",
   "metadata": {},
   "outputs": [
    {
     "data": {
      "text/plain": [
       "0.3333333333333333"
      ]
     },
     "execution_count": 2,
     "metadata": {},
     "output_type": "execute_result"
    }
   ],
   "source": [
    "2/6"
   ]
  },
  {
   "cell_type": "code",
   "execution_count": 3,
   "id": "70f05879",
   "metadata": {},
   "outputs": [
    {
     "name": "stdout",
     "output_type": "stream",
     "text": [
      "216\n"
     ]
    }
   ],
   "source": [
    "print(2*3**3*4)"
   ]
  },
  {
   "cell_type": "code",
   "execution_count": 12,
   "id": "ecfed859",
   "metadata": {},
   "outputs": [
    {
     "data": {
      "text/plain": [
       "9.0"
      ]
     },
     "execution_count": 12,
     "metadata": {},
     "output_type": "execute_result"
    }
   ],
   "source": [
    "36/4"
   ]
  },
  {
   "cell_type": "code",
   "execution_count": 14,
   "id": "68bbbb6e",
   "metadata": {},
   "outputs": [
    {
     "name": "stdout",
     "output_type": "stream",
     "text": [
      "[10, 20, 30, 40]\n",
      "[10, 20, 30, 40]\n"
     ]
    }
   ],
   "source": [
    "a = [10, 20]\n",
    "b = a\n",
    "b += [30, 40]\n",
    "\n",
    "print(a)\n",
    "print(b)"
   ]
  },
  {
   "cell_type": "code",
   "execution_count": 15,
   "id": "03d8d820",
   "metadata": {},
   "outputs": [
    {
     "ename": "SyntaxError",
     "evalue": "invalid syntax (Temp/ipykernel_22632/971796564.py, line 2)",
     "output_type": "error",
     "traceback": [
      "\u001b[1;36m  File \u001b[1;32m\"C:\\Users\\Korey\\AppData\\Local\\Temp/ipykernel_22632/971796564.py\"\u001b[1;36m, line \u001b[1;32m2\u001b[0m\n\u001b[1;33m    x = y += 2\u001b[0m\n\u001b[1;37m          ^\u001b[0m\n\u001b[1;31mSyntaxError\u001b[0m\u001b[1;31m:\u001b[0m invalid syntax\n"
     ]
    }
   ],
   "source": [
    "y = 10\n",
    "x = y += 2\n",
    "print(x)"
   ]
  },
  {
   "cell_type": "code",
   "execution_count": 16,
   "id": "846b201f",
   "metadata": {},
   "outputs": [
    {
     "name": "stdout",
     "output_type": "stream",
     "text": [
      "36\n",
      "3\n"
     ]
    }
   ],
   "source": [
    "x = 6\n",
    "y = 2\n",
    "print(x ** y)\n",
    "print(x // y)"
   ]
  },
  {
   "cell_type": "code",
   "execution_count": 17,
   "id": "a6fa6bac",
   "metadata": {},
   "outputs": [
    {
     "name": "stdout",
     "output_type": "stream",
     "text": [
      "15\n",
      "1\n"
     ]
    }
   ],
   "source": [
    "a = 4\n",
    "b = 11\n",
    "\n",
    "print(a | b)\n",
    "print(a >> 2)"
   ]
  },
  {
   "cell_type": "code",
   "execution_count": 18,
   "id": "515ab15f",
   "metadata": {},
   "outputs": [
    {
     "name": "stdout",
     "output_type": "stream",
     "text": [
      "50\n"
     ]
    }
   ],
   "source": [
    "x = 100\n",
    "y = 50\n",
    "print(x and y)\n",
    "\n",
    "# In Python, When we join two non-Boolean values using a and operator, \n",
    "# the value of the expression is the second operands, not True or False."
   ]
  },
  {
   "cell_type": "code",
   "execution_count": null,
   "id": "9f1e3ec1",
   "metadata": {},
   "outputs": [],
   "source": [
    "print(-18 // 4)\n",
    "\n",
    "# In the case of floor division operator (//), \n",
    "# when the result is negative, the result is rounded down to the next smallest (big negative) integer."
   ]
  },
  {
   "cell_type": "code",
   "execution_count": 19,
   "id": "40d1286b",
   "metadata": {},
   "outputs": [
    {
     "name": "stdout",
     "output_type": "stream",
     "text": [
      "512\n"
     ]
    }
   ],
   "source": [
    "print(2 ** 3 ** 2) # this is right to left, not left to right\n",
    "# Remember, we have not used brackets here. And Exponent operator ** has right-to-left associativity in Python."
   ]
  },
  {
   "cell_type": "code",
   "execution_count": 27,
   "id": "b6538cc4",
   "metadata": {},
   "outputs": [
    {
     "name": "stdout",
     "output_type": "stream",
     "text": [
      "512\n",
      "81\n",
      "64\n",
      "64\n"
     ]
    }
   ],
   "source": [
    "print(2**3**2)\n",
    "print((3**2)**2)\n",
    "print((2**3)**2)\n",
    "print((2**2)**3)"
   ]
  },
  {
   "cell_type": "code",
   "execution_count": 28,
   "id": "fc4328bb",
   "metadata": {},
   "outputs": [
    {
     "data": {
      "text/plain": [
       "8"
      ]
     },
     "execution_count": 28,
     "metadata": {},
     "output_type": "execute_result"
    }
   ],
   "source": [
    "2**3"
   ]
  },
  {
   "cell_type": "code",
   "execution_count": 29,
   "id": "59279a88",
   "metadata": {},
   "outputs": [
    {
     "data": {
      "text/plain": [
       "64"
      ]
     },
     "execution_count": 29,
     "metadata": {},
     "output_type": "execute_result"
    }
   ],
   "source": [
    "8*8"
   ]
  },
  {
   "cell_type": "code",
   "execution_count": 30,
   "id": "67328c7f",
   "metadata": {},
   "outputs": [
    {
     "name": "stdout",
     "output_type": "stream",
     "text": [
      "512\n"
     ]
    }
   ],
   "source": [
    "num1, num2, num3 = 2, 3, 2\n",
    "num4 = num1 ** num2 ** num3\n",
    "print(num4)"
   ]
  },
  {
   "cell_type": "code",
   "execution_count": 33,
   "id": "0d2ebe0c",
   "metadata": {},
   "outputs": [
    {
     "data": {
      "text/plain": [
       "512"
      ]
     },
     "execution_count": 33,
     "metadata": {},
     "output_type": "execute_result"
    }
   ],
   "source": [
    "2**(3*3)"
   ]
  },
  {
   "cell_type": "code",
   "execution_count": 1,
   "id": "f6a254a1",
   "metadata": {},
   "outputs": [
    {
     "name": "stdout",
     "output_type": "stream",
     "text": [
      "maJ\n"
     ]
    }
   ],
   "source": [
    "var = \"James Bond\"\n",
    "print(var[2::-1])"
   ]
  },
  {
   "cell_type": "code",
   "execution_count": 5,
   "id": "a7cb9800",
   "metadata": {},
   "outputs": [
    {
     "name": "stdout",
     "output_type": "stream",
     "text": [
      "True\n",
      "False\n",
      "True\n",
      "[20, 40, 60, 80, 10]\n"
     ]
    }
   ],
   "source": [
    "listOne = [20,40,60,80]\n",
    "listTwo = [20,40,60,80]\n",
    "listThree = listOne\n",
    "\n",
    "print(listOne == listTwo)\n",
    "print(listOne is listTwo)\n",
    "print(listThree is listOne)\n",
    "\n",
    "listOne.append(10)\n",
    "\n",
    "print(listThree)"
   ]
  },
  {
   "cell_type": "code",
   "execution_count": 7,
   "id": "866dcc88",
   "metadata": {},
   "outputs": [
    {
     "name": "stdout",
     "output_type": "stream",
     "text": [
      "10 20 30\n"
     ]
    }
   ],
   "source": [
    "p, q, r = 10, 20, 30\n",
    "print(p,q,r)"
   ]
  },
  {
   "cell_type": "code",
   "execution_count": 9,
   "id": "35b21f98",
   "metadata": {},
   "outputs": [
    {
     "name": "stdout",
     "output_type": "stream",
     "text": [
      "182.0\n"
     ]
    }
   ],
   "source": [
    "x = 36 / 4 * (3 + 2) * 4 + 2\n",
    "print(x)"
   ]
  },
  {
   "cell_type": "code",
   "execution_count": 14,
   "id": "026a1d4e",
   "metadata": {},
   "outputs": [
    {
     "data": {
      "text/plain": [
       "182.0"
      ]
     },
     "execution_count": 14,
     "metadata": {},
     "output_type": "execute_result"
    }
   ],
   "source": [
    "36/4*5*4+2"
   ]
  },
  {
   "cell_type": "code",
   "execution_count": 11,
   "id": "5c5439d2",
   "metadata": {},
   "outputs": [
    {
     "data": {
      "text/plain": [
       "0.45"
      ]
     },
     "execution_count": 11,
     "metadata": {},
     "output_type": "execute_result"
    }
   ],
   "source": [
    "36/80"
   ]
  },
  {
   "cell_type": "code",
   "execution_count": 16,
   "id": "25566124",
   "metadata": {},
   "outputs": [
    {
     "ename": "TypeError",
     "evalue": "unsupported operand type(s) for +: 'int' and 'str'",
     "output_type": "error",
     "traceback": [
      "\u001b[1;31m---------------------------------------------------------------------------\u001b[0m",
      "\u001b[1;31mTypeError\u001b[0m                                 Traceback (most recent call last)",
      "\u001b[1;32m~\\AppData\\Local\\Temp/ipykernel_21552/867100682.py\u001b[0m in \u001b[0;36m<module>\u001b[1;34m\u001b[0m\n\u001b[1;32m----> 1\u001b[1;33m \u001b[0mprint\u001b[0m\u001b[1;33m(\u001b[0m\u001b[1;36m1\u001b[0m\u001b[1;33m+\u001b[0m\u001b[1;36m1\u001b[0m\u001b[1;33m+\u001b[0m\u001b[1;34m\"3\"\u001b[0m\u001b[1;33m)\u001b[0m\u001b[1;33m\u001b[0m\u001b[1;33m\u001b[0m\u001b[0m\n\u001b[0m",
      "\u001b[1;31mTypeError\u001b[0m: unsupported operand type(s) for +: 'int' and 'str'"
     ]
    }
   ],
   "source": [
    "print(1+1+\"3\")"
   ]
  },
  {
   "cell_type": "code",
   "execution_count": 18,
   "id": "55dcd718",
   "metadata": {},
   "outputs": [
    {
     "ename": "TypeError",
     "evalue": "'float' object cannot be interpreted as an integer",
     "output_type": "error",
     "traceback": [
      "\u001b[1;31m---------------------------------------------------------------------------\u001b[0m",
      "\u001b[1;31mTypeError\u001b[0m                                 Traceback (most recent call last)",
      "\u001b[1;32m~\\AppData\\Local\\Temp/ipykernel_21552/2038488885.py\u001b[0m in \u001b[0;36m<module>\u001b[1;34m\u001b[0m\n\u001b[1;32m----> 1\u001b[1;33m \u001b[1;32mfor\u001b[0m \u001b[0mx\u001b[0m \u001b[1;32min\u001b[0m \u001b[0mrange\u001b[0m\u001b[1;33m(\u001b[0m\u001b[1;36m0.5\u001b[0m\u001b[1;33m,\u001b[0m \u001b[1;36m5.5\u001b[0m\u001b[1;33m,\u001b[0m \u001b[1;36m0.5\u001b[0m\u001b[1;33m)\u001b[0m\u001b[1;33m:\u001b[0m\u001b[1;33m\u001b[0m\u001b[1;33m\u001b[0m\u001b[0m\n\u001b[0m\u001b[0;32m      2\u001b[0m     \u001b[0mprint\u001b[0m\u001b[1;33m(\u001b[0m\u001b[0mx\u001b[0m\u001b[1;33m)\u001b[0m\u001b[1;33m\u001b[0m\u001b[1;33m\u001b[0m\u001b[0m\n",
      "\u001b[1;31mTypeError\u001b[0m: 'float' object cannot be interpreted as an integer"
     ]
    }
   ],
   "source": [
    "for x in range(0.5, 5.5, 0.5):\n",
    "    print(x)"
   ]
  },
  {
   "cell_type": "code",
   "execution_count": 19,
   "id": "4a0842a0",
   "metadata": {},
   "outputs": [
    {
     "name": "stdout",
     "output_type": "stream",
     "text": [
      "Salary: 12000\n",
      "Salary: 8000\n"
     ]
    }
   ],
   "source": [
    "salary = 8000\n",
    "\n",
    "def printSalary():\n",
    "  salary = 12000\n",
    "  print(\"Salary:\", salary)\n",
    "  \n",
    "printSalary()\n",
    "print(\"Salary:\", salary)"
   ]
  },
  {
   "cell_type": "code",
   "execution_count": 20,
   "id": "fc8021f3",
   "metadata": {},
   "outputs": [
    {
     "name": "stdout",
     "output_type": "stream",
     "text": [
      "JamesJamesJamesJamesJamesJames\n"
     ]
    }
   ],
   "source": [
    "var = \"James\" * 2  * 3\n",
    "print(var)"
   ]
  },
  {
   "cell_type": "code",
   "execution_count": 21,
   "id": "5465b5bf",
   "metadata": {},
   "outputs": [
    {
     "name": "stdout",
     "output_type": "stream",
     "text": [
      "25\n",
      "125\n"
     ]
    }
   ],
   "source": [
    "valueOne = 5 ** 2\n",
    "valueTwo = 5 ** 3\n",
    "\n",
    "print(valueOne)\n",
    "print(valueTwo)"
   ]
  },
  {
   "cell_type": "code",
   "execution_count": 22,
   "id": "5fdd072e",
   "metadata": {},
   "outputs": [
    {
     "name": "stdout",
     "output_type": "stream",
     "text": [
      "yn\n"
     ]
    }
   ],
   "source": [
    "str = \"pynative\"\n",
    "print (str[1:3])"
   ]
  },
  {
   "cell_type": "code",
   "execution_count": 23,
   "id": "e463aba2",
   "metadata": {},
   "outputs": [
    {
     "name": "stdout",
     "output_type": "stream",
     "text": [
      "1\n",
      "2\n",
      "3\n",
      "4\n",
      "this is else block statement\n"
     ]
    }
   ],
   "source": [
    "for i in range(1, 5):\n",
    "    print(i)\n",
    "else:\n",
    "    print(\"this is else block statement\" )"
   ]
  },
  {
   "cell_type": "code",
   "execution_count": null,
   "id": "b439a38d",
   "metadata": {},
   "outputs": [],
   "source": []
  }
 ],
 "metadata": {
  "kernelspec": {
   "display_name": "Python 3 (ipykernel)",
   "language": "python",
   "name": "python3"
  },
  "language_info": {
   "codemirror_mode": {
    "name": "ipython",
    "version": 3
   },
   "file_extension": ".py",
   "mimetype": "text/x-python",
   "name": "python",
   "nbconvert_exporter": "python",
   "pygments_lexer": "ipython3",
   "version": "3.9.7"
  }
 },
 "nbformat": 4,
 "nbformat_minor": 5
}
