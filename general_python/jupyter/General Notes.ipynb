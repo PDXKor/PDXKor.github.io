{
 "cells": [
  {
   "cell_type": "markdown",
   "id": "33a77380",
   "metadata": {},
   "source": [
    "## Merging Dictionaries\n",
    "\n",
    "This is a quality of life improvement provided in the latest version of python. Merging dictionaries with unique keys creates a new dictionary with each key."
   ]
  },
  {
   "cell_type": "code",
   "execution_count": 6,
   "id": "7f1b49c2",
   "metadata": {},
   "outputs": [
    {
     "data": {
      "text/plain": [
       "{'a': 0, 'b': 1, 'c': 2, 'd': 3}"
      ]
     },
     "execution_count": 6,
     "metadata": {},
     "output_type": "execute_result"
    }
   ],
   "source": [
    "dict_a = {'a':0, 'b':1 }\n",
    "dict_b = {'c':2, 'd':3 }\n",
    "\n",
    "dict_a | dict_b"
   ]
  },
  {
   "cell_type": "markdown",
   "id": "bab436b9",
   "metadata": {},
   "source": [
    "Merging dictionaries with a duplicate key will take the value of the key in the right handed dictionary."
   ]
  },
  {
   "cell_type": "code",
   "execution_count": 7,
   "id": "185a6389",
   "metadata": {},
   "outputs": [
    {
     "data": {
      "text/plain": [
       "{'a': 0, 'b': 2, 'c': 3, 'd': 4}"
      ]
     },
     "execution_count": 7,
     "metadata": {},
     "output_type": "execute_result"
    }
   ],
   "source": [
    "dict_a = {'a':0, 'b':1 }\n",
    "dict_b = {'b':2, 'c':3, 'd':4 }\n",
    "\n",
    "dict_a | dict_b"
   ]
  },
  {
   "cell_type": "markdown",
   "id": "e1ef80c4",
   "metadata": {},
   "source": [
    "## Assignment Expressions\n",
    "\n",
    "Expressions have a value, statements do not.\n",
    "\n",
    "### Statements\n",
    "\n",
    "Statements are consecutive actions or instructions that your program executes. The following are statements:\n",
    "\n",
    "* if clauses\n",
    "* value assignments\n",
    "* for and while loops\n",
    "* function definition\n",
    "* class definition\n",
    "\n",
    "### Expressions\n",
    "\n",
    "Expressions are anything that can be put into an if clause, typical examples of expressions are literals, values returned by operators (exluding in-place operators), and comprehensions such as lists, dictionary and set comprehensions. Function calls and method calls are expressions to. \n",
    "\n",
    "### Literals \n",
    "\n",
    "https://www.scaler.com/topics/python/literals-in-python/\n",
    "\n",
    "Literals in Python are defined as the raw data assigned to variables or constants while programming. There are five types of literals:\n",
    "\n",
    "* String literals\n",
    "* Numeric literals\n",
    "* Boolean literatls \n",
    "* Literal collections\n",
    "* Special literals\n",
    "\n"
   ]
  },
  {
   "cell_type": "code",
   "execution_count": 8,
   "id": "a750a775",
   "metadata": {},
   "outputs": [],
   "source": [
    "from typing import Any\n",
    "\n",
    "def get_ci(d: dict):\n",
    "    print('done')\n",
    "    \n",
    "get"
   ]
  },
  {
   "cell_type": "code",
   "execution_count": null,
   "id": "3a37c6d1",
   "metadata": {},
   "outputs": [],
   "source": []
  }
 ],
 "metadata": {
  "kernelspec": {
   "display_name": "Python 3 (ipykernel)",
   "language": "python",
   "name": "python3"
  },
  "language_info": {
   "codemirror_mode": {
    "name": "ipython",
    "version": 3
   },
   "file_extension": ".py",
   "mimetype": "text/x-python",
   "name": "python",
   "nbconvert_exporter": "python",
   "pygments_lexer": "ipython3",
   "version": "3.9.7"
  }
 },
 "nbformat": 4,
 "nbformat_minor": 5
}
