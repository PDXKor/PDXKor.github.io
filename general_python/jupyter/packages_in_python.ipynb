{
 "cells": [
  {
   "cell_type": "markdown",
   "id": "fb3d4bdf-0c1b-400a-aeb0-3d7967b7704c",
   "metadata": {},
   "source": [
    "# Packages in Python\n",
    "\n",
    "This is a quick reference guide to setting up packages in Python. \n",
    "\n",
    "Packages in Python typically follow this basic structure:\n",
    "   \n",
    "- mypackage/\n",
    "  - mypackage/\n",
    "    - \\_\\_init\\_\\_.py\n",
    "    - module1.py\n",
    "    - module2.py\n",
    "  - tests/\n",
    "    - \\_\\_init\\_\\_.py\n",
    "    - test_module1.py\n",
    "    - test_module2.py\n",
    "  - docs/\n",
    "  - setup.py\n",
    "  - requirements.txt\n",
    "  - README.md\n",
    "  - LICENSE"
   ]
  },
  {
   "cell_type": "markdown",
   "id": "ea18588f-7b52-4b07-b3ae-0b5abfde175d",
   "metadata": {},
   "source": [
    "## \\_\\_init\\_\\_.py\n",
    "This can be empty or it can be used to prep the module. One of the common uses of this file is to define the implicit imports. For instance and versioning: "
   ]
  },
  {
   "cell_type": "code",
   "execution_count": 2,
   "id": "2db39589-8e45-49c6-b0bd-0edd418d317f",
   "metadata": {
    "tags": []
   },
   "outputs": [],
   "source": [
    "__all__ = ['some_class', 'some_function']\n",
    "__version__ = '1.0.0'"
   ]
  },
  {
   "cell_type": "markdown",
   "id": "d616c021-ebe3-442d-a318-24551a8f143b",
   "metadata": {},
   "source": [
    "## Setup.py\n",
    "The Setup.py file is used to capture a data for the package such as the name, version, description, author, author contact, and installation requirements. An example can be found below: "
   ]
  },
  {
   "cell_type": "code",
   "execution_count": null,
   "id": "9323624f-4b47-43f4-a056-da3d7f02f9bc",
   "metadata": {},
   "outputs": [],
   "source": [
    "from setuptools import setup, find_packages\n",
    "\n",
    "setup(\n",
    "    name='test_package',\n",
    "    version='0.1',\n",
    "    packages=find_packages(),\n",
    "    description='doing test stuff',\n",
    "    long_description=open('README.md').read(),\n",
    "    long_description_content_type='text/markdown',\n",
    "    author='Korey Stafford',\n",
    "    author_email='korey.stafford@company.com',\n",
    "    url='',\n",
    "    install_requires=[\n",
    "        'pandas'\n",
    "    ],\n",
    ")"
   ]
  },
  {
   "cell_type": "markdown",
   "id": "dc563603-56ad-4323-97cc-2a997fac8ad6",
   "metadata": {},
   "source": [
    "## Requirements.txt\n",
    "\n",
    "This file provides a more robust set of dependencies for the package, including dependenceis that would be required for testing. An example would be: "
   ]
  },
  {
   "cell_type": "raw",
   "id": "1753a6a3-fd23-4d84-b8be-f102b68ac1e2",
   "metadata": {},
   "source": [
    "# Core dependencies\n",
    "flask==1.1.2\n",
    "numpy>=1.18.5\n",
    "pandas<=1.2.0\n",
    "\n",
    "# Specific version of a dependency for compatibility\n",
    "requests==2.24.0\n",
    "\n",
    "# Development and testing dependencies\n",
    "pytest>=6.0.0\n",
    "coverage!=5.0.*  # Exclude specific version range\n",
    "\n",
    "# Allow later versions, maintaining backward compatibility\n",
    "SQLAlchemy>=1.3.0,<1.4.0\n",
    "\n",
    "# Git repositories as dependencies (using commit hashes, branch names, or tags)\n",
    "-e git+https://github.com/user/repo.git@master#egg=Package\n",
    "\n",
    "# Dependencies from URLs\n",
    "-e https://example.com/packages/SomePackage-1.0.4.tar.gz"
   ]
  },
  {
   "cell_type": "markdown",
   "id": "be5b6dce-1442-4aba-870a-1d8e5c598722",
   "metadata": {},
   "source": [
    "## README.md \n",
    "This is your markdown file that describes the project and usually gives instructions on how to use the package. \n",
    "\n",
    "## LICENSE\n",
    "This is a license file that instructs users how to use your project and what they should do if they integrate your code into their product based on their products usage e.g. commercial or free to use. \n",
    "\n",
    "## Troubleshooting\n",
    "When setting up a package here are some helpful tips for installing, updating, or troubleshooting package installations. \n",
    "\n",
    "* pip commmands\n",
    "    * pip install . - install the current package\n",
    "    * pip install -r requirements.txt - install packages from a requirements.txt file\n",
    "    * pip unstall {package_name} - uninstall the package\n",
    "    \n",
    "Find the location of the current package:"
   ]
  },
  {
   "cell_type": "code",
   "execution_count": 4,
   "id": "beabfac5-ec2d-463e-9d2d-c90fdd066ca0",
   "metadata": {
    "tags": []
   },
   "outputs": [
    {
     "name": "stdout",
     "output_type": "stream",
     "text": [
      "C:\\ProgramData\\anaconda3\\Lib\\site-packages\\pandas\\__init__.py\n"
     ]
    }
   ],
   "source": [
    "import pandas as pd\n",
    "print(pd.__file__)"
   ]
  },
  {
   "cell_type": "markdown",
   "id": "805c8564-438f-4501-bddb-4843719af32f",
   "metadata": {},
   "source": [
    "## Installing Package in Edit Mode\n",
    "\n",
    "If you are developing a package it may be helpful to install the package in edit mode. This can be done like so in a bash terminal:\n",
    "\n",
    "```\n",
    "cd path/to/your/package\n",
    "pip install -e .\n",
    "```\n"
   ]
  }
 ],
 "metadata": {
  "kernelspec": {
   "display_name": "Python 3 (ipykernel)",
   "language": "python",
   "name": "python3"
  },
  "language_info": {
   "codemirror_mode": {
    "name": "ipython",
    "version": 3
   },
   "file_extension": ".py",
   "mimetype": "text/x-python",
   "name": "python",
   "nbconvert_exporter": "python",
   "pygments_lexer": "ipython3",
   "version": "3.11.4"
  }
 },
 "nbformat": 4,
 "nbformat_minor": 5
}
