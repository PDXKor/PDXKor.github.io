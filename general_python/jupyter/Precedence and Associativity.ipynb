{
 "cells": [
  {
   "cell_type": "markdown",
   "id": "ae61771a",
   "metadata": {},
   "source": [
    "## Precedence \n",
    "\n",
    "The combination of values, variables, operators, and function calls is termed as an expression. The order in which an expression is executed is called **precedence** in Python. For example multiplication has a higher precedence than subtraction. "
   ]
  },
  {
   "cell_type": "code",
   "execution_count": 1,
   "id": "fa0019c7",
   "metadata": {},
   "outputs": [
    {
     "data": {
      "text/plain": [
       "2"
      ]
     },
     "execution_count": 1,
     "metadata": {},
     "output_type": "execute_result"
    }
   ],
   "source": [
    "10-4*2"
   ]
  },
  {
   "cell_type": "markdown",
   "id": "9406ac4f",
   "metadata": {},
   "source": [
    "Parentheses has the highest level of precedence. "
   ]
  },
  {
   "cell_type": "code",
   "execution_count": 2,
   "id": "93c58866",
   "metadata": {},
   "outputs": [
    {
     "data": {
      "text/plain": [
       "12"
      ]
     },
     "execution_count": 2,
     "metadata": {},
     "output_type": "execute_result"
    }
   ],
   "source": [
    "(10-4)*2"
   ]
  },
  {
   "cell_type": "markdown",
   "id": "14e1ee3e",
   "metadata": {},
   "source": [
    "Using parentheses in an if statement will give the same functionality:"
   ]
  },
  {
   "cell_type": "code",
   "execution_count": 6,
   "id": "8fbfd727",
   "metadata": {},
   "outputs": [
    {
     "name": "stdout",
     "output_type": "stream",
     "text": [
      "purchase\n",
      "do not purchase\n"
     ]
    }
   ],
   "source": [
    "color = 'blue'\n",
    "cost = 25000\n",
    "\n",
    "if color == 'blue' or color == 'yellow' and cost < 25000:\n",
    "    print('purchase')\n",
    "else:\n",
    "    print('do not purchase')\n",
    "    \n",
    "# with parentheses we change the order of execution\n",
    "if (color == 'blue' or color == 'yellow') and cost < 25000:\n",
    "    print(purchase)\n",
    "else:\n",
    "    print('do not purchase')"
   ]
  },
  {
   "cell_type": "markdown",
   "id": "1643c23f",
   "metadata": {},
   "source": [
    "### Precedence Order\n",
    "\n",
    "For a list of the precedence of operators in python you can view the documentation here: https://docs.python.org/3/reference/expressions.html#operator-precedence\n"
   ]
  },
  {
   "cell_type": "markdown",
   "id": "8d380711",
   "metadata": {},
   "source": [
    "## Associativity\n",
    "\n",
    "When two operators have the same precedence associativity helps to determine the order of operations. Almost all operators have left-to-right associativity, however exponents of right-to-left associativity."
   ]
  },
  {
   "cell_type": "code",
   "execution_count": 10,
   "id": "94ea373a",
   "metadata": {},
   "outputs": [
    {
     "name": "stdout",
     "output_type": "stream",
     "text": [
      "10.0\n",
      "2.5\n"
     ]
    }
   ],
   "source": [
    "print(5 * 2 / 1)\n",
    "print(5 / 2 * 1)"
   ]
  },
  {
   "cell_type": "markdown",
   "id": "5a74be86",
   "metadata": {},
   "source": [
    "Below if there was left to right associativity we would have 64, but instead we get 512. "
   ]
  },
  {
   "cell_type": "code",
   "execution_count": 11,
   "id": "ae9174cc",
   "metadata": {},
   "outputs": [
    {
     "name": "stdout",
     "output_type": "stream",
     "text": [
      "512\n"
     ]
    }
   ],
   "source": [
    "print(2 ** 3 ** 2)"
   ]
  },
  {
   "cell_type": "code",
   "execution_count": 14,
   "id": "413b7690",
   "metadata": {},
   "outputs": [
    {
     "data": {
      "text/plain": [
       "64"
      ]
     },
     "execution_count": 14,
     "metadata": {},
     "output_type": "execute_result"
    }
   ],
   "source": [
    "# This represnets left to right associativity, which is not the case for exponents in pyton\n",
    "(2**3)**2"
   ]
  },
  {
   "cell_type": "code",
   "execution_count": 13,
   "id": "28e6d294",
   "metadata": {},
   "outputs": [
    {
     "data": {
      "text/plain": [
       "512"
      ]
     },
     "execution_count": 13,
     "metadata": {},
     "output_type": "execute_result"
    }
   ],
   "source": [
    "# Instead we should read it like this which is right to left associativity\n",
    "2**(3**2)"
   ]
  },
  {
   "cell_type": "code",
   "execution_count": null,
   "id": "71ae22df",
   "metadata": {},
   "outputs": [],
   "source": []
  }
 ],
 "metadata": {
  "kernelspec": {
   "display_name": "Python 3 (ipykernel)",
   "language": "python",
   "name": "python3"
  },
  "language_info": {
   "codemirror_mode": {
    "name": "ipython",
    "version": 3
   },
   "file_extension": ".py",
   "mimetype": "text/x-python",
   "name": "python",
   "nbconvert_exporter": "python",
   "pygments_lexer": "ipython3",
   "version": "3.9.7"
  }
 },
 "nbformat": 4,
 "nbformat_minor": 5
}
