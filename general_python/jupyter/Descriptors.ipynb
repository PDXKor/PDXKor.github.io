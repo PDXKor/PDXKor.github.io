{
 "cells": [
  {
   "cell_type": "markdown",
   "id": "b061c67b",
   "metadata": {},
   "source": [
    "Descriptors let objects customize attribute lookup, storage, and deletion. The formal definition is as follows:\n",
    "    \n",
    "*Any object which defines the methods __get()__, __set()__, or __delete__(). When a class attribute is a descriptor, its special binding behavior is triggered upon attribute lookup. Normally, using a.b to get, set or delete an attribute looks up the object named b in the class dictionary for a, but if b is a descriptor, the respective descriptor method gets called.*\n",
    "    \n",
    "More information on descriptors in Python can be found here:\n",
    "\n",
    "https://docs.python.org/3/howto/descriptor.html"
   ]
  },
  {
   "cell_type": "markdown",
   "id": "42be2118",
   "metadata": {},
   "source": [
    "To use a descriptor, it must be stored as a class variable in another class."
   ]
  },
  {
   "cell_type": "code",
   "execution_count": 5,
   "id": "5af14384",
   "metadata": {},
   "outputs": [
    {
     "data": {
      "text/plain": [
       "5"
      ]
     },
     "execution_count": 5,
     "metadata": {},
     "output_type": "execute_result"
    }
   ],
   "source": [
    "class Ten:\n",
    "    def __get__(self, obj, objtype=None):\n",
    "        return 10\n",
    "    \n",
    "class A:\n",
    "    x = 5\n",
    "    y = Ten()\n",
    "    \n",
    "a = A()\n",
    "a.x\n"
   ]
  },
  {
   "cell_type": "code",
   "execution_count": 6,
   "id": "387eb36f",
   "metadata": {},
   "outputs": [
    {
     "data": {
      "text/plain": [
       "10"
      ]
     },
     "execution_count": 6,
     "metadata": {},
     "output_type": "execute_result"
    }
   ],
   "source": [
    "a.y"
   ]
  },
  {
   "cell_type": "markdown",
   "id": "249476fc",
   "metadata": {},
   "source": [
    "In the above code example the class Ten is called via another class, A. The class is called by assigning it to a variable in class A, and when that variable is called the descriptor object is intialized and the get function is returned. Python does the legwork of understanding what type of descriptor method was called, for instance __get__ in this case because we are retrieving the value of the variable y from the object a of class A."
   ]
  },
  {
   "cell_type": "code",
   "execution_count": null,
   "id": "cfeaf609",
   "metadata": {},
   "outputs": [],
   "source": []
  }
 ],
 "metadata": {
  "kernelspec": {
   "display_name": "Python 3 (ipykernel)",
   "language": "python",
   "name": "python3"
  },
  "language_info": {
   "codemirror_mode": {
    "name": "ipython",
    "version": 3
   },
   "file_extension": ".py",
   "mimetype": "text/x-python",
   "name": "python",
   "nbconvert_exporter": "python",
   "pygments_lexer": "ipython3",
   "version": "3.9.7"
  }
 },
 "nbformat": 4,
 "nbformat_minor": 5
}
