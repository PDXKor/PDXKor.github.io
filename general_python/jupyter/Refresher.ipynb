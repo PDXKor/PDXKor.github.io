{
 "cells": [
  {
   "cell_type": "markdown",
   "metadata": {},
   "source": [
    "## Topics to Refresh\n",
    "\n",
    "* Immutable vs Mutable - how it is used\n",
    "* Context managers\n",
    "* Function args, positional, kwargs args\n",
    "\n",
    "* import statements \n",
    "    * from . vs from - \n",
    "    * from ( .., ..)\n",
    "\n",
    "* __all__ \n",
    "\n",
    "* mixin \n",
    "* abstract base classes\n",
    "* _ vs __ - name mangling and private variables\n",
    "* isinstance vs type() ==\n",
    "* decorators\n",
    "* list(map(,))\n",
    "* lambda functions\n",
    "* list sorted functions \n",
    "\n",
    "## Multi-threading and global interpreter lock \n",
    "Python does support multithreading through the threading module, however due to the GIL or Global Interpreter Lock, python cannot support parallelism with CPU-bound tasks, however it can with I/O bound tasks, where we are waiting on API requests or other activities which aren't limted by the CPU. However you can use the `multiprocessing` module for true parallelism.\n"
   ]
  }
 ],
 "metadata": {
  "language_info": {
   "name": "python"
  }
 },
 "nbformat": 4,
 "nbformat_minor": 2
}
