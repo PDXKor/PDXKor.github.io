{
 "cells": [
  {
   "cell_type": "markdown",
   "metadata": {},
   "source": [
    "# Logging\n",
    "\n",
    "In Python, logging config is typically applied at the global level by default. For instance when you call something like the line of code below, \n",
    "\n",
    "## Levels\n",
    "\n",
    "Python logging has sever levels that indicate the severity of the vents being logged:\n",
    "\n",
    "* DEBUG\n",
    "* INFO\n",
    "* WARNING\n",
    "* ERROR\n",
    "* CRITICAL\n",
    "\n",
    "When a logging handler is set at a given level it will only emit messages at or above that level.\n",
    "\n",
    "## Handlers"
   ]
  },
  {
   "cell_type": "code",
   "execution_count": 1,
   "metadata": {},
   "outputs": [
    {
     "name": "stderr",
     "output_type": "stream",
     "text": [
      "2025-02-27 08:14:36,423 - __main__ - DEBUG - Debug log message.\n",
      "2025-02-27 08:14:36,424 - __main__ - INFO - Info log message.\n",
      "2025-02-27 08:14:36,425 - __main__ - WARNING - This is a warning!\n",
      "2025-02-27 08:14:36,426 - __main__ - ERROR - This is an error!\n",
      "2025-02-27 08:14:36,427 - __main__ - CRITICAL - This is a critical message\n"
     ]
    }
   ],
   "source": [
    "import logging\n",
    "\n",
    "logger = logging.getLogger(__name__)\n",
    "logger.setLevel(logging.DEBUG)\n",
    "#logging.basicConfig(level=logging.DEBUG)\n",
    "\n",
    "# Create a console handler\n",
    "console_handler = logging.StreamHandler()\n",
    "console_handler.setLevel(logging.DEBUG)\n",
    "\n",
    "# Create a formatter and attach it to the handler\n",
    "formatter = logging.Formatter(\"%(asctime)s - %(name)s - %(levelname)s - %(message)s\")\n",
    "console_handler.setFormatter(formatter)\n",
    "\n",
    "# Attach the handler to the logger\n",
    "logger.addHandler(console_handler)\n",
    "\n",
    "logger.debug(\"Debug log message.\")\n",
    "logger.info(\"Info log message.\")\n",
    "logger.warning(\"This is a warning!\")\n",
    "logger.error(\"This is an error!\")\n",
    "logger.critical(\"This is a critical message\")"
   ]
  },
  {
   "cell_type": "code",
   "execution_count": null,
   "metadata": {},
   "outputs": [],
   "source": [
    "logger.setLevel(logging.error)\n",
    "logger.info(\"This is a info message that won't show..\")"
   ]
  },
  {
   "cell_type": "markdown",
   "metadata": {},
   "source": [
    "## Configuration"
   ]
  },
  {
   "cell_type": "code",
   "execution_count": 3,
   "metadata": {},
   "outputs": [
    {
     "name": "stderr",
     "output_type": "stream",
     "text": [
      "2025-02-27 08:10:32,571 - __main__ - DEBUG - This is a debug message\n",
      "2025-02-27 08:10:32,571 [DEBUG] __main__: This is a debug message\n",
      "2025-02-27 08:10:32,573 - __main__ - INFO - This is an info message\n",
      "2025-02-27 08:10:32,573 [INFO] __main__: This is an info message\n",
      "2025-02-27 08:10:32,574 - __main__ - ERROR - An error occurred while dividing by zero\n",
      "Traceback (most recent call last):\n",
      "  File \"C:\\Users\\z004p3ny\\AppData\\Local\\Temp\\ipykernel_12976\\645324756.py\", line 43, in main\n",
      "    result = 1 / 0\n",
      "             ~~^~~\n",
      "ZeroDivisionError: division by zero\n",
      "2025-02-27 08:10:32,574 [ERROR] __main__: An error occurred while dividing by zero\n",
      "Traceback (most recent call last):\n",
      "  File \"C:\\Users\\z004p3ny\\AppData\\Local\\Temp\\ipykernel_12976\\645324756.py\", line 43, in main\n",
      "    result = 1 / 0\n",
      "             ~~^~~\n",
      "ZeroDivisionError: division by zero\n"
     ]
    }
   ],
   "source": [
    "import logging\n",
    "import logging.config\n",
    "\n",
    "# Centralized logging configuration using a dictionary\n",
    "LOGGING_CONFIG = {\n",
    "    'version': 1,\n",
    "    'disable_existing_loggers': False,\n",
    "    'formatters': {\n",
    "        'default': {\n",
    "            'format': '%(asctime)s [%(levelname)s] %(name)s: %(message)s'\n",
    "        }\n",
    "    },\n",
    "    'handlers': {\n",
    "        'console': {\n",
    "            'class': 'logging.StreamHandler',\n",
    "            'formatter': 'default',\n",
    "            'level': 'DEBUG',  # Detailed logs for development\n",
    "        },\n",
    "        'file': {\n",
    "            'class': 'logging.FileHandler',\n",
    "            'formatter': 'default',\n",
    "            'filename': 'app.log',\n",
    "            'level': 'INFO',  # Less verbose logs for production monitoring\n",
    "        },\n",
    "    },\n",
    "    'root': {\n",
    "        'handlers': ['console', 'file'],\n",
    "        'level': 'DEBUG',\n",
    "    },\n",
    "}\n",
    "\n",
    "# Apply the logging configuration\n",
    "logging.config.dictConfig(LOGGING_CONFIG)\n",
    "\n",
    "# Create a logger for the current module\n",
    "logger = logging.getLogger(__name__)\n",
    "\n",
    "def main():\n",
    "    logger.debug(\"This is a debug message\")\n",
    "    logger.info(\"This is an info message\")\n",
    "    \n",
    "    try:\n",
    "        result = 1 / 0\n",
    "    except ZeroDivisionError:\n",
    "        # This will log the exception along with the stack trace\n",
    "        logger.exception(\"An error occurred while dividing by zero\")\n",
    "\n",
    "if __name__ == '__main__':\n",
    "    main()"
   ]
  },
  {
   "cell_type": "code",
   "execution_count": 2,
   "metadata": {},
   "outputs": [
    {
     "data": {
      "text/plain": [
       "'__main__'"
      ]
     },
     "execution_count": 2,
     "metadata": {},
     "output_type": "execute_result"
    }
   ],
   "source": [
    "__name__"
   ]
  }
 ],
 "metadata": {
  "kernelspec": {
   "display_name": "base",
   "language": "python",
   "name": "python3"
  },
  "language_info": {
   "codemirror_mode": {
    "name": "ipython",
    "version": 3
   },
   "file_extension": ".py",
   "mimetype": "text/x-python",
   "name": "python",
   "nbconvert_exporter": "python",
   "pygments_lexer": "ipython3",
   "version": "3.11.4"
  }
 },
 "nbformat": 4,
 "nbformat_minor": 2
}
