{
 "cells": [
  {
   "cell_type": "markdown",
   "metadata": {},
   "source": [
    "# Pydantic\n",
    "\n",
    "Pydantic is a lib that simplifies data validation and settings management by using type annotation. It should be used for the following activities:\n",
    "\n",
    "* Validate Input Data\n",
    "* Perform Type Conversion\n",
    "* Provide Easy Serialization\n",
    "\n",
    "When using default type checking in Python it is static, and will not be validated at runtime. However, if you use Pydantic with type checking validation of types will happen at runtime, or conversion will happen."
   ]
  },
  {
   "cell_type": "code",
   "execution_count": 9,
   "metadata": {},
   "outputs": [
    {
     "data": {
      "text/plain": [
       "User(id=123, name='Alice', email='alice@exmp.com', age=30)"
      ]
     },
     "execution_count": 9,
     "metadata": {},
     "output_type": "execute_result"
    }
   ],
   "source": [
    "from pydantic import BaseModel  \n",
    "\n",
    "# here pydantic will automatically generate the init function for you. \n",
    "class User(BaseModel):\n",
    "    id: int\n",
    "    name: str\n",
    "    email: str\n",
    "    age: int = None\n",
    "\n",
    "user_data = {\"id\": \"123\", \"name\":\"Alice\", \"email\": \"alice@exmp.com\", \"age\":\"30\"}\n",
    "user = User(**user_data)\n",
    "user"
   ]
  },
  {
   "cell_type": "markdown",
   "metadata": {},
   "source": [
    "Pydantic will automatically convert data to the correct data type. For instance id and age are passed as string, but lets check what the datatype."
   ]
  },
  {
   "cell_type": "code",
   "execution_count": 7,
   "metadata": {},
   "outputs": [
    {
     "data": {
      "text/plain": [
       "(True, True)"
      ]
     },
     "execution_count": 7,
     "metadata": {},
     "output_type": "execute_result"
    }
   ],
   "source": [
    "isinstance(user.id, int), isinstance(user.id, int)"
   ]
  },
  {
   "cell_type": "markdown",
   "metadata": {},
   "source": [
    "By default conversion or coersion happens at runtime, but you can use strict types such as those used below, and static type checking is now dynamic type checking. "
   ]
  },
  {
   "cell_type": "code",
   "execution_count": 18,
   "metadata": {},
   "outputs": [
    {
     "ename": "ValidationError",
     "evalue": "2 validation errors for StrictExample\nsome_int\n  value is not a valid integer (type=type_error.integer)\nsome_str\n  str type expected (type=type_error.str)",
     "output_type": "error",
     "traceback": [
      "\u001b[1;31m---------------------------------------------------------------------------\u001b[0m",
      "\u001b[1;31mValidationError\u001b[0m                           Traceback (most recent call last)",
      "Cell \u001b[1;32mIn[18], line 7\u001b[0m\n\u001b[0;32m      4\u001b[0m     some_int: StrictInt\n\u001b[0;32m      5\u001b[0m     some_str: StrictStr\n\u001b[1;32m----> 7\u001b[0m se \u001b[38;5;241m=\u001b[39m StrictExample(some_int\u001b[38;5;241m=\u001b[39m\u001b[38;5;124m\"\u001b[39m\u001b[38;5;124m1\u001b[39m\u001b[38;5;124m\"\u001b[39m, some_str\u001b[38;5;241m=\u001b[39m\u001b[38;5;241m2\u001b[39m)\n",
      "File \u001b[1;32mc:\\ProgramData\\anaconda3\\Lib\\site-packages\\pydantic\\main.py:341\u001b[0m, in \u001b[0;36mpydantic.main.BaseModel.__init__\u001b[1;34m()\u001b[0m\n",
      "\u001b[1;31mValidationError\u001b[0m: 2 validation errors for StrictExample\nsome_int\n  value is not a valid integer (type=type_error.integer)\nsome_str\n  str type expected (type=type_error.str)"
     ]
    }
   ],
   "source": [
    "from pydantic import BaseModel, StrictInt, StrictStr, ValidationError\n",
    "\n",
    "class StrictExample(BaseModel):\n",
    "    some_int: StrictInt\n",
    "    some_str: StrictStr\n",
    "\n",
    "se = StrictExample(some_int=\"1\", some_str=2)"
   ]
  },
  {
   "cell_type": "markdown",
   "metadata": {},
   "source": [
    "## Serialization\n",
    "\n",
    "You can also use Pydantic for serialization. For instance you can easily create dictionaries, or json objects like so:"
   ]
  },
  {
   "cell_type": "code",
   "execution_count": 11,
   "metadata": {},
   "outputs": [
    {
     "data": {
      "text/plain": [
       "{'id': 123, 'name': 'Alice', 'email': 'alice@exmp.com', 'age': 30}"
      ]
     },
     "execution_count": 11,
     "metadata": {},
     "output_type": "execute_result"
    }
   ],
   "source": [
    "user.dict()"
   ]
  },
  {
   "cell_type": "code",
   "execution_count": 10,
   "metadata": {},
   "outputs": [
    {
     "data": {
      "text/plain": [
       "'{\"id\": 123, \"name\": \"Alice\", \"email\": \"alice@exmp.com\", \"age\": 30}'"
      ]
     },
     "execution_count": 10,
     "metadata": {},
     "output_type": "execute_result"
    }
   ],
   "source": [
    "user.json()"
   ]
  },
  {
   "cell_type": "markdown",
   "metadata": {},
   "source": [
    "## Advanced Types\n",
    "\n",
    "You can get a bit more advanced when creating fields:"
   ]
  },
  {
   "cell_type": "code",
   "execution_count": 12,
   "metadata": {},
   "outputs": [
    {
     "ename": "ValidationError",
     "evalue": "1 validation error for Product\nname\n  ensure this value has at least 1 characters (type=value_error.any_str.min_length; limit_value=1)",
     "output_type": "error",
     "traceback": [
      "\u001b[1;31m---------------------------------------------------------------------------\u001b[0m",
      "\u001b[1;31mValidationError\u001b[0m                           Traceback (most recent call last)",
      "Cell \u001b[1;32mIn[12], line 7\u001b[0m\n\u001b[0;32m      4\u001b[0m     name: \u001b[38;5;28mstr\u001b[39m \u001b[38;5;241m=\u001b[39m Field(\u001b[38;5;241m.\u001b[39m\u001b[38;5;241m.\u001b[39m\u001b[38;5;241m.\u001b[39m, min_length\u001b[38;5;241m=\u001b[39m\u001b[38;5;241m1\u001b[39m, max_length\u001b[38;5;241m=\u001b[39m\u001b[38;5;241m100\u001b[39m) \u001b[38;5;66;03m# using \"...\" is used by Pydantic to indicate that the field has no default value and is required\u001b[39;00m\n\u001b[0;32m      5\u001b[0m     price: \u001b[38;5;28mfloat\u001b[39m \u001b[38;5;241m=\u001b[39m Field(gt\u001b[38;5;241m=\u001b[39m\u001b[38;5;241m0\u001b[39m) \u001b[38;5;66;03m# price must be greater than 0\u001b[39;00m\n\u001b[1;32m----> 7\u001b[0m product \u001b[38;5;241m=\u001b[39m Product(name\u001b[38;5;241m=\u001b[39m\u001b[38;5;124m\"\u001b[39m\u001b[38;5;124m\"\u001b[39m, price\u001b[38;5;241m=\u001b[39m\u001b[38;5;241m5\u001b[39m)\n",
      "File \u001b[1;32mc:\\ProgramData\\anaconda3\\Lib\\site-packages\\pydantic\\main.py:341\u001b[0m, in \u001b[0;36mpydantic.main.BaseModel.__init__\u001b[1;34m()\u001b[0m\n",
      "\u001b[1;31mValidationError\u001b[0m: 1 validation error for Product\nname\n  ensure this value has at least 1 characters (type=value_error.any_str.min_length; limit_value=1)"
     ]
    }
   ],
   "source": [
    "from pydantic import BaseModel, Field, ValidationError\n",
    "\n",
    "class Product(BaseModel):\n",
    "    name: str = Field(..., min_length=1, max_length=100) # using \"...\" is used by Pydantic to indicate that the field has no default value and is required\n",
    "    price: float = Field(gt=0) # price must be greater than 0\n",
    "\n",
    "product = Product(name=\"\", price=5)"
   ]
  },
  {
   "cell_type": "markdown",
   "metadata": {},
   "source": [
    "## Using Unions\n",
    "\n",
    "When using a plain Python `Union` you only get a static type hint with no automatic runtime checks. Pydantic, however, implements runtime validation and converstion logic based on those type hints. Pydantic will try to match the provided data against each type in the Union. If the data fits one of them (e.g. the fields match `PremiumFeatures`), it converts/validates accordingly.\n"
   ]
  },
  {
   "cell_type": "code",
   "execution_count": null,
   "metadata": {},
   "outputs": [
    {
     "name": "stdout",
     "output_type": "stream",
     "text": [
      "user=BaseUser(username='alice', email='alice@example.com') tier=PremiumFeatures(max_storage_gb=100)\n",
      "user=BaseUser(username='bob', email='bob@example.com') tier=BasicFeatures(ads_enabled=True)\n"
     ]
    }
   ],
   "source": [
    "from typing import Union\n",
    "\n",
    "class BaseUser(BaseModel):\n",
    "    username: str\n",
    "    email: str\n",
    "\n",
    "class PremiumFeatures(BaseModel):\n",
    "    max_storage_gb: int\n",
    "\n",
    "class BasicFeatures(BaseModel):\n",
    "    ads_enabled: bool\n",
    "\n",
    "class Account(BaseModel):\n",
    "    user: BaseUser\n",
    "    tier: Union[PremiumFeatures, BasicFeatures]\n",
    "\n",
    "\n",
    "# 1) Instantiating with the PremiumFeatures tier\n",
    "premium_account = Account(\n",
    "    user=BaseUser(username=\"alice\", email=\"alice@example.com\"),\n",
    "    tier=PremiumFeatures(max_storage_gb=100)\n",
    ")\n",
    "\n",
    "print(premium_account)\n",
    "\n",
    "# 2) Instantiating with the BasicFeatures tier\n",
    "basic_account = Account(\n",
    "    user=BaseUser(username=\"bob\", email=\"bob@example.com\"),\n",
    "    tier=BasicFeatures(ads_enabled=True)\n",
    ")\n",
    "\n",
    "print(basic_account)"
   ]
  }
 ],
 "metadata": {
  "kernelspec": {
   "display_name": "base",
   "language": "python",
   "name": "python3"
  },
  "language_info": {
   "codemirror_mode": {
    "name": "ipython",
    "version": 3
   },
   "file_extension": ".py",
   "mimetype": "text/x-python",
   "name": "python",
   "nbconvert_exporter": "python",
   "pygments_lexer": "ipython3",
   "version": "3.11.4"
  }
 },
 "nbformat": 4,
 "nbformat_minor": 2
}
