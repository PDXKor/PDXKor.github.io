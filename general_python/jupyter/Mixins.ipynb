{
 "cells": [
  {
   "cell_type": "markdown",
   "metadata": {},
   "source": [
    "# Mixins\n",
    "A Mixin is a design pattern used in object-oriented programming (OOP) to enable code reuse and extend the functionality of classes without using traditional inheritance or creating tightly coupled hierarchies. A Mixin is essentially a class that provides additional methods or properties to other classes but is not meant to be instantiated on its own.\n",
    "\n",
    "Mixins are often used in languages like Python, which support multiple inheritance, allowing you to \"mix in\" reusable functionality into different classes."
   ]
  },
  {
   "cell_type": "code",
   "execution_count": 24,
   "metadata": {},
   "outputs": [
    {
     "name": "stdout",
     "output_type": "stream",
     "text": [
      "Initialized user Stafford, Korey with id 1\n",
      "Adding user with access: default_user\n",
      "Initialized user Ross, Bob with id 2\n",
      "Adding user with access: admin\n"
     ]
    }
   ],
   "source": [
    "from typing import List\n",
    "\n",
    "users = []\n",
    "\n",
    "class LoggingMixin:\n",
    "    log_messages: List[str] = []  # class variable, shared among all instances\n",
    "\n",
    "    def log(self, message: str) -> None:\n",
    "        self.__class__.log_messages.append(message)\n",
    "    \n",
    "class User(LoggingMixin):\n",
    "    \n",
    "    def __init__(self, first_name: str, last_name: str, id: int):\n",
    "        self.first_name = first_name\n",
    "        self.last_name = last_name\n",
    "        self.id = id\n",
    "        self.log(f'Initialized user {self.last_name}, {self.first_name} with id {self.id}')\n",
    "            \n",
    "    def add_user(self, access_level: str = 'default_user') -> None:\n",
    "        self.access_level = access_level\n",
    "        users.append({\n",
    "            'first_name': self.first_name,\n",
    "            'last_name': self.last_name,\n",
    "            'id': self.id,\n",
    "            'access': self.access_level\n",
    "        })\n",
    "        self.log(f'Adding user with access: {access_level}')\n",
    "\n",
    "class Admin(User):\n",
    "    def add_user_admin(self) -> None:\n",
    "        self.add_user(access_level='admin')\n",
    "\n",
    "# Example usage\n",
    "User('Korey', 'Stafford', 1).add_user()\n",
    "Admin('Bob', 'Ross', 2).add_user_admin()\n",
    "\n",
    "# Print all log messages\n",
    "for message in LoggingMixin.log_messages:\n",
    "    print(message)"
   ]
  }
 ],
 "metadata": {
  "kernelspec": {
   "display_name": "base",
   "language": "python",
   "name": "python3"
  },
  "language_info": {
   "codemirror_mode": {
    "name": "ipython",
    "version": 3
   },
   "file_extension": ".py",
   "mimetype": "text/x-python",
   "name": "python",
   "nbconvert_exporter": "python",
   "pygments_lexer": "ipython3",
   "version": "3.11.4"
  }
 },
 "nbformat": 4,
 "nbformat_minor": 2
}
