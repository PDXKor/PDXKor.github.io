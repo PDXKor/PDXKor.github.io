{
 "cells": [
  {
   "cell_type": "markdown",
   "metadata": {},
   "source": [
    "# Python Environments\n",
    "\n",
    "When developing applications in Python, it often becomes important to test your code with different versions of packages or even different versions of Python itself. To manage this effectively, you typically use isolated environments, which allow you to maintain separate configurations for each project. There are several solutions available for creating and managing these environments, including tools like Anaconda, venv, and virtualenv.\n",
    "\n",
    "In this guide, I'll cover:\n",
    "\n",
    "1. The basics of Python environments and virtual environments,\n",
    "2. The pros and cons of different solutions, and\n",
    "3. How to troubleshoot common issues when managing code across multiple virtual environments.\n",
    "\n",
    "There are three main options when choosing which virtual environment solution you want to use:\n",
    "1. venv \n",
    "2. Anaconda\n",
    "3. virtualenv\n",
    "\n",
    "The first and second option are most commonly used. Later I provide an explanation of each, but for this notebook, and in general, I use Anaconda. Typically, once you start using one you will want to stay with that, and I will show you why later.\n"
   ]
  },
  {
   "cell_type": "markdown",
   "metadata": {},
   "source": [
    "## Use the `sys` Module\n",
    "\n",
    "The `sys` module is extermely powerful, and knowing some quick ways to use it is going to greatly help you when learning Python. Here is an example of some common uses:\n",
    "\n",
    "1. `sys.path` is a list of directories that the interpreter searches for modules and packages. When you use import, it determines where Python looks for .py files or compiled extensions. When using a virtual environment, sys.path is changed, to prioritize the packages for that virtual environment first.\n",
    "\n",
    "2. `sys.executable`\n",
    "\n",
    "3. `sys.version` "
   ]
  },
  {
   "cell_type": "code",
   "execution_count": 7,
   "metadata": {},
   "outputs": [
    {
     "name": "stdout",
     "output_type": "stream",
     "text": [
      "['c:\\\\PDXKor.github.io\\\\general_python\\\\jupyter', 'c:\\\\ProgramData\\\\anaconda3\\\\python311.zip', 'c:\\\\ProgramData\\\\anaconda3\\\\DLLs']\n"
     ]
    }
   ],
   "source": [
    "import sys\n",
    "print(sys.path[0:3])\n",
    "print(sys.executable)\n",
    "print(sys.version)"
   ]
  },
  {
   "cell_type": "markdown",
   "metadata": {},
   "source": [
    "## venv\n",
    "\n",
    "* CLI command to create environment: `python -m venv test_venv_01`\n",
    "    * This will create a directory for the virtual environment in the current location, it will also create the sub directory `Lib\\site-packages` and `Scripts` along with a few other files. \n",
    "    * The -m flag stands for \"module\", it allows you to run a Python module as a script directly from the command line, without needing to write an explicit script file. When you use the -m flag, Python will search for the specified module in the sys.path and execute its contents as if it were a standalone script. This is important, because understanding sys.path, and how libs are found using sys.path is a common concept you will need to understand when troubleshooting your code. \n",
    "\n",
    "* CLI command to activate environment: `test_venv_01/Scripts/activate`\n"
   ]
  },
  {
   "cell_type": "markdown",
   "metadata": {},
   "source": [
    "# The Pros and Cons of Virtual Environment Solutions:\n",
    "\n",
    "### venv\n",
    "A built-in module in Python (available since Python 3.3) for creating lightweight virtual environments.\n",
    "\n",
    "Pros:\n",
    "* Pre-installed: No need to install additional tools; it's part of the Python standard library.\n",
    "* Lightweight: Simple and minimal overhead.\n",
    "* Easy to use: Straightforward commands for creating and activating environments.\n",
    "* Standard: Works seamlessly with pip and other Python tools.\n",
    "\n",
    "Cons:\n",
    "* Python only: Cannot manage non-Python dependencies (e.g., system libraries, R).\n",
    "* Limited features: No support for managing Python versions (unlike Anaconda or pyenv).\n",
    "* Basic functionality: Lacks advanced dependency management or environment sharing tools like conda or pipenv.\n",
    "\n",
    "Best For:\n",
    "* General Python development when non-Python dependencies are not needed.\n",
    "* Lightweight projects or quick setups.\n",
    "\n",
    "### Anaconda\n",
    "A comprehensive distribution for Python (and R) that includes a package manager (conda) and tools for creating virtual environments.\n",
    "\n",
    "Pros:\n",
    "* Cross-language support: Can manage Python and non-Python dependencies (e.g., R, C libraries).\n",
    "* Preloaded packages: Comes with popular data science and machine learning libraries like NumPy, pandas, and TensorFlow.\n",
    "* Integrated environment management: conda handles package and environment management together.\n",
    "* Version management: Handles both Python and package versions effectively.\n",
    "\n",
    "Great for data science: \n",
    "* Includes tools like Jupyter Notebook and Spyder.\n",
    "\n",
    "Cons:\n",
    "* Heavyweight: Anaconda installations can be large, taking up significant disk space.\n",
    "* Slower: conda package resolution can be slower than pip.\n",
    "* Overkill for simple projects: More than necessary for lightweight Python development.\n",
    "* Learning curve: Requires familiarity with the conda ecosystem.\n",
    "\n",
    "Best For:\n",
    "* Data science, machine learning, and scientific computing projects.\n",
    "* Scenarios where non-Python dependencies are required.\n",
    "\n",
    "### virtualenv\n",
    "A third-party tool for creating isolated virtual environments. It predates venv and works with older versions of Python.\n",
    "\n",
    "Pros:\n",
    "* Backward compatibility: Works with Python versions before 3.3 (unlike venv).\n",
    "* Customizable: Offers more flexibility, such as environment relocation and preinstalled environments.\n",
    "* Feature-rich: More options than venv, like extending with tools like virtualenvwrapper.\n",
    "\n",
    "Cons:\n",
    "* Requires installation: Needs to be installed separately (pip install virtualenv).\n",
    "* Superseded: Much of its functionality is now available in venv.\n",
    "* Less integrated: Lacks built-in dependency tracking tools (unlike Anaconda or pipenv).\n",
    "\n",
    "Best For:\n",
    "* Projects requiring compatibility with older Python versions (Python 2 or < 3.3).\n",
    "* Developers already familiar with virtualenv.\n",
    "\n"
   ]
  }
 ],
 "metadata": {
  "kernelspec": {
   "display_name": "base",
   "language": "python",
   "name": "python3"
  },
  "language_info": {
   "codemirror_mode": {
    "name": "ipython",
    "version": 3
   },
   "file_extension": ".py",
   "mimetype": "text/x-python",
   "name": "python",
   "nbconvert_exporter": "python",
   "pygments_lexer": "ipython3",
   "version": "3.11.4"
  }
 },
 "nbformat": 4,
 "nbformat_minor": 2
}
