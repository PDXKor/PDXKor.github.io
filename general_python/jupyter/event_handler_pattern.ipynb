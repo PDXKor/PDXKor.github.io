{
 "cells": [
  {
   "cell_type": "code",
   "execution_count": 1,
   "metadata": {},
   "outputs": [
    {
     "name": "stdout",
     "output_type": "stream",
     "text": [
      "Dispatching event 'user' with name='Alice':\n",
      "Hello, Alice!\n",
      "Goodbye, Alice!\n",
      "Error in callback for event 'user': An error occurred in error_prone callback.\n",
      "\n",
      "After removing farewell callback:\n",
      "Hello, Bob!\n",
      "Error in callback for event 'user': An error occurred in error_prone callback.\n"
     ]
    }
   ],
   "source": [
    "class SimpleEventDispatcher:\n",
    "    def __init__(self):\n",
    "        # Dictionary mapping event names to lists of callback functions.\n",
    "        self._callbacks = {}\n",
    "\n",
    "    def add_event_listener(self, event: str, callback):\n",
    "        \"\"\"\n",
    "        Register a callback for the given event.\n",
    "        \"\"\"\n",
    "        if event not in self._callbacks:\n",
    "            self._callbacks[event] = []\n",
    "        self._callbacks[event].append(callback)\n",
    "\n",
    "    def remove_event_listener(self, event: str, callback):\n",
    "        \"\"\"\n",
    "        Unregister a callback from the given event.\n",
    "        \"\"\"\n",
    "        if event in self._callbacks:\n",
    "            self._callbacks[event] = [cb for cb in self._callbacks[event] if cb != callback]\n",
    "            if not self._callbacks[event]:\n",
    "                del self._callbacks[event]\n",
    "\n",
    "    def dispatch_event(self, event: str, *args, **kwargs):\n",
    "        \"\"\"\n",
    "        Trigger all callbacks associated with the event.\n",
    "        Any arguments provided will be passed to the callbacks.\n",
    "        \"\"\"\n",
    "        if event in self._callbacks:\n",
    "            for callback in list(self._callbacks[event]):\n",
    "                try:\n",
    "                    callback(*args, **kwargs)\n",
    "                except Exception as e:\n",
    "                    print(f\"Error in callback for event '{event}': {e}\")\n",
    "\n",
    "# Example callbacks\n",
    "def greet(name):\n",
    "    print(f\"Hello, {name}!\")\n",
    "\n",
    "def farewell(name):\n",
    "    print(f\"Goodbye, {name}!\")\n",
    "\n",
    "def error_prone(name):\n",
    "    # Intentionally raise an error to demonstrate error handling.\n",
    "    raise ValueError(\"An error occurred in error_prone callback.\")\n",
    "\n",
    "# Usage example\n",
    "def main():\n",
    "    dispatcher = SimpleEventDispatcher()\n",
    "    \n",
    "    # Register callbacks for the \"user\" event.\n",
    "    dispatcher.add_event_listener(\"user\", greet)\n",
    "    dispatcher.add_event_listener(\"user\", farewell)\n",
    "    dispatcher.add_event_listener(\"user\", error_prone)\n",
    "    \n",
    "    print(\"Dispatching event 'user' with name='Alice':\")\n",
    "    dispatcher.dispatch_event(\"user\", \"Alice\")\n",
    "    \n",
    "    # Remove the farewell callback and dispatch again.\n",
    "    dispatcher.remove_event_listener(\"user\", farewell)\n",
    "    print(\"\\nAfter removing farewell callback:\")\n",
    "    dispatcher.dispatch_event(\"user\", \"Bob\")\n",
    "\n",
    "if __name__ == '__main__':\n",
    "    main()"
   ]
  }
 ],
 "metadata": {
  "kernelspec": {
   "display_name": "base",
   "language": "python",
   "name": "python3"
  },
  "language_info": {
   "codemirror_mode": {
    "name": "ipython",
    "version": 3
   },
   "file_extension": ".py",
   "mimetype": "text/x-python",
   "name": "python",
   "nbconvert_exporter": "python",
   "pygments_lexer": "ipython3",
   "version": "3.11.4"
  }
 },
 "nbformat": 4,
 "nbformat_minor": 2
}
